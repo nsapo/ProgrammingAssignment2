{
  "cells": [
    {
      "cell_type": "markdown",
      "metadata": {
        "id": "view-in-github",
        "colab_type": "text"
      },
      "source": [
        "<a href=\"https://colab.research.google.com/github/nsapo/ProgrammingAssignment2/blob/master/Data_Viz_Ex_edited.ipynb\" target=\"_parent\"><img src=\"https://colab.research.google.com/assets/colab-badge.svg\" alt=\"Open In Colab\"/></a>"
      ]
    },
    {
      "source": [
        "# IMPORTANT: RUN THIS CELL IN ORDER TO IMPORT YOUR KAGGLE DATA SOURCES,\n",
        "# THEN FEEL FREE TO DELETE THIS CELL.\n",
        "# NOTE: THIS NOTEBOOK ENVIRONMENT DIFFERS FROM KAGGLE'S PYTHON\n",
        "# ENVIRONMENT SO THERE MAY BE MISSING LIBRARIES USED BY YOUR\n",
        "# NOTEBOOK.\n",
        "import kagglehub\n",
        "abhi8923shriv_fatalpoliceshootingsintheus_path = kagglehub.dataset_download('abhi8923shriv/fatalpoliceshootingsintheus')\n",
        "abhi8923shriv_drinksbycountry_path = kagglehub.dataset_download('abhi8923shriv/drinksbycountry')\n",
        "\n",
        "print('Data source import complete.')\n"
      ],
      "metadata": {
        "id": "Zsab5ymh0BcJ"
      },
      "cell_type": "code",
      "outputs": [],
      "execution_count": null
    },
    {
      "metadata": {
        "id": "q111XzRN0BcM"
      },
      "cell_type": "markdown",
      "source": [
        "#                                    Comprehensive Guide to--Matplotlib / Seaborn / Plotly\n",
        "\n",
        "Matplotlib is a multiplatform data visualization library built on NumPy arrays, and\n",
        "designed to work with the broader SciPy stack.One of Matplotlib’s most important features is its ability to play well with many operating systems and graphics backends. Matplotlib supports dozens of backends and\n",
        "output types, which means you can count on it to work regardless of which operating\n",
        "system you are using or which output format you wish."
      ]
    },
    {
      "metadata": {
        "id": "4456301C0BcO"
      },
      "cell_type": "markdown",
      "source": [
        "# Table of Contents\n",
        "\n",
        "* [Section  1 - Importing matplotlib & Classic Graph](#section-one)  \n",
        "* [Section 2 - loading from a script](#section-two)\n",
        "* [Section 3 - Adjusting the Plot: Line Colors and Styles](#section-Three)\n",
        "* [Section 4 - Simple Scatter Plots](#section-four)\n",
        "* [Section 5 - Visualizing Errors Density and Contour Plots](#section-five)\n",
        "* [Section 6 - Histograms, Binnings, and Density](#section-six)\n",
        "* [Section 7 - Customizing Plot Legends](#section-seven)\n",
        "* [Section 8 - Multiple Subplots](#section-eight)\n",
        "* [Section 9 - Multiple Plots](#section-nine)\n",
        "* [Section 10 - Text & Annotation/Text Position/Arrow Position](#section-ten)\n",
        "* [Section 11 - Customizing Matplotlib: Configurations and Stylesheets](#section-eleven)\n",
        "* [Section 12 - Three-Dimensional Plotting in Matplotlib](#section-twelve)\n",
        "* [Section 13 - Visualization with Seaborn](#section-thirteen)\n",
        "* [Section 14 - Visualization with Plotly](#section-fourteen)\n",
        "* [Section 15 - Read data from input files for Seaborn Plots](#section-fifteen)\n",
        "* [Section 16 - Bar Plot using Seaborn](#section-sixteen)\n",
        "* [Section 17 - Point Plot using Seaborn](#section-seventeen)\n",
        "* [Section 18 - Joint Plot using Seaborn](#section-eighteen)\n",
        "* [Section 19 - Pie Plot using Seaborn](#section-ninteen)\n",
        "* [Section 20 - Lm Plot using Seaborn](#section-twenty)\n",
        "* [Section 21 - Kde Plot using Seaborn](#section-twentyone)\n",
        "* [Section 22 - Violin Plot using Seaborn](#section-twentytwo)\n",
        "* [Section 23 - Heatmap](#section-twentythree)\n",
        "* [Section 24 - Box plot](#section-twentyfour)\n",
        "* [Section 25 - Swarm Plot](#section-twentyfive)\n",
        "* [Section 26 - Pair Plot](#section-twentysix)\n",
        "* [Section 27 - Count Plot](#section-twentyseven)\n",
        "* [Section 28 - Read data from input files for Plotly Plots](#section-twentyeight)\n",
        "* [Section 29 - Line Charts Plotly Plots](#section-twentynine)\n",
        "* [Section 30 - Scatter Charts Plotly Plots](#section-thirty)\n",
        "* [Section 31 - Bar Charts Plotly Plots](#section-thirtyone)\n",
        "* [Section 32 - Pie Charts Plotly Plots](#section-thirtytwo)\n",
        "* [Section 33 - Bubble Charts Plotly Plots](#section-thirtythree)\n",
        "* [Section 34 - Histogram Plotly Plots](#section-thirtyfour)\n",
        "* [Section 35 - Word Cloud Plotly Plots](#section-thirtyfive)\n",
        "* [Section 36 - Box Plots Plotly Plots](#section-thirtysix)\n",
        "* [Section 37 - Scatter Matrix Plotly Plots](#section-thirtyseven)\n"
      ]
    },
    {
      "metadata": {
        "_uuid": "8f2839f25d086af736a60e9eeb907d3b93b6e0e5",
        "_cell_guid": "b1076dfc-b9ad-4769-8c92-a6c4dae69d19",
        "trusted": true,
        "id": "6PzRuRPG0BcP"
      },
      "cell_type": "code",
      "source": [
        "# This Python 3 environment comes with many helpful analytics libraries installed\n",
        "# It is defined by the kaggle/python Docker image: https://github.com/kaggle/docker-python\n",
        "# For example, here's several helpful packages to load\n",
        "\n",
        "import numpy as np # linear algebra\n",
        "import pandas as pd # data processing, CSV file I/O (e.g. pd.read_csv)\n",
        "\n",
        "# Input data files are available in the read-only \"../input/\" directory\n",
        "# For example, running this (by clicking run or pressing Shift+Enter) will list all files under the input directory\n",
        "\n",
        "import os\n",
        "for dirname, _, filenames in os.walk('/kaggle/input'):\n",
        "    for filename in filenames:\n",
        "        print(os.path.join(dirname, filename))\n",
        "\n",
        "# You can write up to 5GB to the current directory (/kaggle/working/) that gets preserved as output when you create a version using \"Save & Run All\"\n",
        "# You can also write temporary files to /kaggle/temp/, but they won't be saved outside of the current session"
      ],
      "execution_count": null,
      "outputs": []
    },
    {
      "metadata": {
        "id": "IpE4Wmi_0BcP"
      },
      "cell_type": "markdown",
      "source": [
        "Importing matplotlib\n",
        "Just as we use the np shorthand for NumPy and the pd shorthand for Pandas, we will\n",
        "use some standard shorthands for Matplotlib imports:\n",
        "\n",
        "Setting Styles\n",
        "We will use the plt.style directive to choose appropriate aesthetic styles for our fig‐\n",
        "ures. Here we will set the classic style, which ensures that the plots we create use the\n",
        "classic Matplotlib style:\n"
      ]
    },
    {
      "metadata": {
        "id": "ei50IOPB0BcQ"
      },
      "cell_type": "markdown",
      "source": [
        "<a id=\"section-one\"></a>\n",
        "# Section  1 - Importing matplotlib & Classic Graph"
      ]
    },
    {
      "metadata": {
        "_uuid": "d629ff2d2480ee46fbb7e2d37f6b5fab8052498a",
        "_cell_guid": "79c7e3d0-c299-4dcb-8224-4455121ee9b0",
        "trusted": true,
        "id": "sxJky4hv0BcR"
      },
      "cell_type": "code",
      "source": [
        "import matplotlib as mlp\n",
        "import matplotlib.pyplot as plt\n",
        "import numpy as np\n",
        "\n",
        "# plot simple sin & cos function\n",
        "\n",
        "plt.style.use('classic')\n",
        "\n",
        "x = np.linspace(1,10,200)\n",
        "plt.plot(x,np.sin(x))\n",
        "plt.plot(x,np.cos(x))\n",
        "plt.show()  # plt.show() starts an event loop, looks for all currently active figure objects,and opens one or more interactive windows that display your figure or figures.\n",
        "\n"
      ],
      "execution_count": null,
      "outputs": []
    },
    {
      "metadata": {
        "id": "8_Hlyisv0BcS"
      },
      "cell_type": "markdown",
      "source": [
        "Plotting from an IPython shell\n",
        "\n",
        "It can be very convenient to use Matplotlib interactively within an IPython shell. IPython is built to work well with Matplotlib if you specify Matplotlib\n",
        "mode. To enable this mode, you can use the %matplotlib magic command after start‐\n",
        "ing ipython:"
      ]
    },
    {
      "metadata": {
        "trusted": true,
        "id": "r3UoOtPh0BcT"
      },
      "cell_type": "code",
      "source": [
        "%matplotlib"
      ],
      "execution_count": null,
      "outputs": []
    },
    {
      "metadata": {
        "id": "Hn6pf8uC0BcU"
      },
      "cell_type": "markdown",
      "source": [
        "Plotting from an IPython notebook\n",
        "\n",
        "The IPython notebook is a browser-based interactive data analysis tool that can com‐\n",
        "bine narrative, code, graphics, HTML elements, and much more into a single exe‐\n",
        "cutable document\n",
        "\n",
        "Plotting interactively within an IPython notebook can be done with the %matplotlib\n",
        "command, and works in a similar way to the IPython shell. In the IPython notebook,\n",
        "you also have the option of embedding graphics directly in the notebook, with two\n",
        "possible options:\n",
        "\n",
        "• %matplotlib notebook will lead to interactive plots embedded within the\n",
        "notebook\n",
        "• %matplotlib inline will lead to static images of your plot embedded in the\n",
        "notebook\n",
        "\n",
        "For this book, we will generally opt for %matplotlib inline:\n",
        "\n",
        "%matplotlib inline\n",
        "\n",
        "After you run this command (it needs to be done only once per kernel/session), any\n",
        "cell within the notebook that creates a plot will embed a PNG image of the resulting\n",
        "graphic\n",
        "\n",
        "\n"
      ]
    },
    {
      "metadata": {
        "id": "pvswcgT_0BcV"
      },
      "cell_type": "markdown",
      "source": [
        "Saving Figures to File\n",
        "One nice feature of Matplotlib is the ability to save figures in a wide variety of for‐\n",
        "mats. You can save a figure using the savefig() command. For example, to save the\n",
        "previous figure as a PNG file, you can run this:"
      ]
    },
    {
      "metadata": {
        "id": "7P3bqkge0BcV"
      },
      "cell_type": "markdown",
      "source": []
    },
    {
      "metadata": {
        "id": "4BO4OTpE0BcV"
      },
      "cell_type": "markdown",
      "source": [
        "<a id=\"section-two\"></a>\n",
        "# Section 2 - loading from a script"
      ]
    },
    {
      "metadata": {
        "trusted": true,
        "id": "5cA_FfdU0BcW"
      },
      "cell_type": "code",
      "source": [
        "x = np.linspace(0, 10, 100)\n",
        "fig=plt.figure()\n",
        "plt.plot(x,np.sin(x),'_')\n",
        "plt.plot(x,np.cos(x), '_')\n",
        "\n",
        "fig.savefig('my_figure.png')\n"
      ],
      "execution_count": null,
      "outputs": []
    },
    {
      "metadata": {
        "id": "gM0cO3Rh0BcW"
      },
      "cell_type": "markdown",
      "source": [
        "The file format is inferred from the extension of the given filename.\n",
        "Depending on what backends you have installed, many different file formats are\n",
        "available. You can find the list of supported file types for your system by using the\n",
        "following method of the figure canvas object:"
      ]
    },
    {
      "metadata": {
        "trusted": true,
        "id": "i9a42rfx0BcW"
      },
      "cell_type": "code",
      "source": [
        "fig.canvas.get_supported_filetypes()\n"
      ],
      "execution_count": null,
      "outputs": []
    },
    {
      "metadata": {
        "trusted": true,
        "id": "Q7Ccj1NG0BcX"
      },
      "cell_type": "code",
      "source": [
        "# one more way to draw graph\n",
        "\n",
        "plt.figure()\n",
        "\n",
        "# create the first of two panels and set current axis\n",
        "\n",
        "plt.subplot(2,1,1) # (rows, columns, panel number)\n",
        "plt.plot(x, np.sin(x))\n",
        "\n",
        "# create the second panel and set current axis\n",
        "\n",
        "plt.subplot(2,1,2)\n",
        "plt.plot(x, np.cos(x))"
      ],
      "execution_count": null,
      "outputs": []
    },
    {
      "metadata": {
        "trusted": true,
        "id": "CJ_GUFTM0BcX"
      },
      "cell_type": "code",
      "source": [
        "# Simple Line Plots\n",
        "# Perhaps the simplest of all plots is the visualization of a single function y = f(x) . Here we will take a first look at creating a simple plot of this type. As with all the following\n",
        "# sections, we’ll start by setting up the notebook for plotting and importing the func‐ tions we will use:\n",
        "\n",
        "%matplotlib inline\n",
        "import matplotlib.pyplot as plt\n",
        "plt.style.use('seaborn-whitegrid')\n",
        "import numpy as np\n",
        "\n",
        "# For all Matplotlib plots, we start by creating a figure and an axes. In their simplest form, a figure and axes can be created as follows\n",
        "\n",
        "fig=plt.figure()\n",
        "ax=plt.axis()\n",
        "\n",
        "# Once we have created an axes, we can use the ax.plot function to plot some data. Let’s start with a simple sinusoid\n",
        "x=np.linspace(1,10,1000)\n",
        "\n",
        "x = np.linspace(0, 10, 2000)\n",
        "plt.plot(x, np.sin(x))\n",
        "\n",
        "# If we want to create a single figure with multiple lines, we can simply call the plot function multiple times\n",
        "plt.plot(x, np.sin(x))\n",
        "plt.plot(x, np.cos(x))\n",
        "# plt.plot(x, np.tan(x))\n",
        "\n"
      ],
      "execution_count": null,
      "outputs": []
    },
    {
      "metadata": {
        "id": "ldb13CIj0BcX"
      },
      "cell_type": "markdown",
      "source": [
        "<a id=\"section-Three\"></a>\n",
        "# Section 3 - Adjusting the Plot: Line Colors and Styles\n"
      ]
    },
    {
      "metadata": {
        "trusted": true,
        "id": "gVMTSvEu0BcY"
      },
      "cell_type": "code",
      "source": [
        "# Adjusting the Plot: Line Colors and Styles\n",
        "\n",
        "# The first adjustment you might wish to make to a plot is to control the line colors and styles. The plt.plot() function takes additional arguments that can be used to spec‐\n",
        "# ify these. To adjust the color, you can use the color keyword, which accepts a string argument representing virtually any imaginable color. The color can be specified in a variety of ways\n",
        "\n",
        "\n",
        "plt.plot(x, np.sin(x - 0), color='blue')      # specify color by name\n",
        "plt.plot(x, np.sin(x - 1), color='g')        # short color code (rgbcmyk)\n",
        "plt.plot(x, np.sin(x - 2), color='0.75')     # Grayscale between 0 and 1\n",
        "plt.plot(x, np.sin(x - 3), color='#FFDD44')      # Hex code (RRGGBB from 00 to FF)\n",
        "plt.plot(x, np.sin(x - 4), color=(1.0,0.2,0.3))    # RGB tuple, values 0 and 1\n",
        "plt.plot(x, np.sin(x - 5), color='chartreuse');     # all HTML color names supported\n",
        "\n",
        "# If no color is specified, Matplotlib will automatically cycle through a set of default colors for multiple lines.\n",
        "\n",
        "# Similarly, you can adjust the line style using the linestyle keyword\n",
        "\n",
        "plt.plot(x, x + 0, linestyle='solid')\n",
        "plt.plot(x, x + 1, linestyle='dashed')\n",
        "plt.plot(x, x + 2, linestyle='dashdot')\n",
        "plt.plot(x, x + 3, linestyle='dotted')\n",
        "\n",
        " # For short, you can use the following codes:\n",
        "\n",
        "plt.plot(x, x + 4, linestyle='-') # solid\n",
        "plt.plot(x, x + 5, linestyle='--') # dashed\n",
        "plt.plot(x, x + 6, linestyle='-.') # dashdot\n",
        "plt.plot(x, x + 7, linestyle=':') # dotted\n"
      ],
      "execution_count": null,
      "outputs": []
    },
    {
      "metadata": {
        "trusted": true,
        "id": "zO_Jrq_J0BcY"
      },
      "cell_type": "code",
      "source": [
        "# If you would like to be extremely terse, these linestyle and color codes can be com‐ bined into a single nonkeyword argument to the plt.plot() function\n",
        "\n",
        "plt.plot(x, x + 0, '-g') # solid green  # x & x+1 is drawing a line here\n",
        "plt.plot(x, x + 1, '--c') # dashed cyan\n",
        "plt.plot(x, x + 2, '-.k') # dashdot black\n",
        "plt.plot(x, x + 3, ':r'); # dotted red\n",
        "\n",
        "# These single-character color codes reflect the standard abbreviations in the RGB (Red/Green/Blue) and CMYK (Cyan/Magenta/Yellow/blacK) color systems, com‐monly used for digital color graphics.\n"
      ],
      "execution_count": null,
      "outputs": []
    },
    {
      "metadata": {
        "trusted": true,
        "id": "LryVvmCT0BcY"
      },
      "cell_type": "code",
      "source": [
        "# Adjusting the Plot: Axes Limits\n",
        "\n",
        "# Matplotlib does a decent job of choosing default axes limits for your plot, but some‐times it’s nice to have finer control. The most basic way to adjust axis limits is to use the plt.xlim() and plt.ylim() methods\n",
        "\n",
        "plt.plot(x,np.sin(x))\n",
        "plt.xlim(0, 11)\n",
        "plt.ylim(0, 1.5)"
      ],
      "execution_count": null,
      "outputs": []
    },
    {
      "metadata": {
        "trusted": true,
        "id": "efKk0bpN0BcZ"
      },
      "cell_type": "code",
      "source": [
        "# If for some reason you’d like either axis to be displayed in reverse, you can simply reverse the order of the arguments\n",
        "\n",
        "plt.plot(x,np.sin(x))\n",
        "plt.xlim(10,0)\n",
        "plt.ylim(1.2, -1.2)"
      ],
      "execution_count": null,
      "outputs": []
    },
    {
      "metadata": {
        "trusted": true,
        "id": "iI0_ypaV0BcZ"
      },
      "cell_type": "code",
      "source": [
        "# A useful related method is plt.axis() (note here the potential confusion between axes with an e, and axis with an i). The plt.axis() method allows you to set the x\n",
        "# and y limits with a single call, by passing a list that specifies [xmin, xmax, ymin,ymax]\n",
        "\n",
        "plt.plot(x,np.sin(x))\n",
        "plt.axis([-1,11,0,6])"
      ],
      "execution_count": null,
      "outputs": []
    },
    {
      "metadata": {
        "trusted": true,
        "id": "4p9AzpOZ0BcZ"
      },
      "cell_type": "code",
      "source": [
        "# The plt.axis() method goes even beyond this, allowing you to do things like auto‐ matically tighten the bounds around the current plot\n",
        "\n",
        "plt.plot(x,np.sin(x))\n",
        "plt.axis('tight')"
      ],
      "execution_count": null,
      "outputs": []
    },
    {
      "metadata": {
        "trusted": true,
        "id": "Rybxp_iQ0BcZ"
      },
      "cell_type": "code",
      "source": [
        "# It allows even higher-level specifications, such as ensuring an equal aspect ratio so that on your screen, one unit in x is equal to one unit in y\n",
        "\n",
        "plt.plot(x,np.sin(x))\n",
        "plt.axis('equal')"
      ],
      "execution_count": null,
      "outputs": []
    },
    {
      "metadata": {
        "trusted": true,
        "id": "1flBkBIn0BcZ"
      },
      "cell_type": "code",
      "source": [
        "# Labeling Plots\n",
        "# we’ll briefly look at the labeling of plots: titles, axis labels, and simple legends.\n",
        "# Titles and axis labels are the simplest such labels—there are methods that can be used to quickly set them\n",
        "\n",
        "plt.plot(x,np.sin(x))\n",
        "plt.title('A sign curve')\n",
        "plt.xlabel(\"x value\")\n",
        "plt.ylabel(\"sinx value\")"
      ],
      "execution_count": null,
      "outputs": []
    },
    {
      "metadata": {
        "trusted": true,
        "id": "4EKntwK90Bca"
      },
      "cell_type": "code",
      "source": [
        "# When multiple lines are being shown within a single axes, it can be useful to create a plot legend that labels each line type.\n",
        "# Again, Matplotlib has a built-in way of quickly creating such a legend. It is done via the (you guessed it) plt.legend() method.\n",
        "\n",
        "plt.plot(x,np.sin(x),'g',label='sin(x)')\n",
        "plt.plot(x,np.cos(x), 'r',label='cos(x)')\n",
        "\n",
        "plt.axis('equal')\n",
        "plt.legend()  # this method is responsible for displaying legend\n",
        "\n",
        "# As you can see, the plt.legend() function keeps track of the line style and color, and matches these with the correct label. More information on specifying and formatting\n",
        "# plot legends can be found in the plt.legend() docstring;"
      ],
      "execution_count": null,
      "outputs": []
    },
    {
      "metadata": {
        "trusted": true,
        "id": "VujLfx1d0Bca"
      },
      "cell_type": "code",
      "source": [
        "# In the object-oriented interface to plotting, rather than calling these functions indi‐ vidually, it is often more convenient to use the ax.set() method to set all these prop‐erties at once\n",
        "\n",
        "ax = plt.axes()\n",
        "ax.plot(x, np.sin(x))\n",
        "ax.set(xlim=(0,10),ylim=(-2,2),xlabel='x',ylabel='sin(x)',title='A sign curve')\n",
        "\n"
      ],
      "execution_count": null,
      "outputs": []
    },
    {
      "metadata": {
        "id": "RoO5-y0y0Bca"
      },
      "cell_type": "markdown",
      "source": [
        "<a id=\"section-four\"></a>\n",
        "# Section 4 - Simple Scatter Plots"
      ]
    },
    {
      "metadata": {
        "trusted": true,
        "id": "YxqZ9irf0Bca"
      },
      "cell_type": "code",
      "source": [
        "# Simple Scatter Plots\n",
        "# Another commonly used plot type is the simple scatter plot, a close cousin of the line plot. Instead of points being joined by line segments, here the points are represented individually with a dot, circle, or other shape.\n",
        "\n",
        "%matplotlib inline\n",
        "import matplotlib.pyplot as plt\n",
        "plt.style.use('seaborn-whitegrid')\n",
        "import numpy as np\n",
        "\n",
        "x = np.linspace(0, 10, 30)\n",
        "y = np.sin(x)\n",
        "\n",
        "plt.plot(x,y,'o',color='black')\n",
        "\n",
        "# The third argument in the function call is a character that represents the type of sym‐bol used for the plotting. Just as you can specify options such as '-' and '--' to con‐\n",
        "# trol the line style, the marker style has its own set of short string codes.\n"
      ],
      "execution_count": null,
      "outputs": []
    },
    {
      "metadata": {
        "trusted": true,
        "id": "0RAOgyXi0Bcb"
      },
      "cell_type": "code",
      "source": [
        "rng = np.random.RandomState(0)\n",
        "for marker in ['o', '.', ',', 'x', '+', 'v', '^', '<', '>', 's', 'd']:\n",
        "    plt.plot(rng.rand(5), rng.rand(5), marker,label=\"marker='{0}'\".format(marker))\n",
        "\n",
        "plt.legend(numpoints=1)\n",
        "plt.xlim(0, 1.8);"
      ],
      "execution_count": null,
      "outputs": []
    },
    {
      "metadata": {
        "trusted": true,
        "id": "d_2Lmnnl0Bcb"
      },
      "cell_type": "code",
      "source": [
        "# For even more possibilities, these character codes can be used together with line and color codes to plot points along with a line connecting them\n",
        "plt.plot(x,y,'-ok') # line (-), circle marker (o), black (k)"
      ],
      "execution_count": null,
      "outputs": []
    },
    {
      "metadata": {
        "trusted": true,
        "id": "jhA0XJJ_0Bcb"
      },
      "cell_type": "code",
      "source": [
        "# Additional keyword arguments to plt.plot specify a wide range of properties of the lines and markers\n",
        "\n",
        "plt.plot(x,y,'-p',color='gray',markersize=15,linewidth=4,markerfacecolor='white',markeredgecolor='gray',markeredgewidth=2)\n",
        "plt.ylim(-1.2,1.2)\n",
        "plt.xlim(0,3)\n"
      ],
      "execution_count": null,
      "outputs": []
    },
    {
      "metadata": {
        "trusted": true,
        "id": "xubGphYI0Bcc"
      },
      "cell_type": "code",
      "source": [
        "# Scatter Plots with plt.scatter\n",
        "\n",
        "plt.scatter(x,y,marker='o')"
      ],
      "execution_count": null,
      "outputs": []
    },
    {
      "metadata": {
        "trusted": true,
        "id": "-n1fdvLd0Bcc"
      },
      "cell_type": "code",
      "source": [
        "# Let’s show this by creating a random scatter plot with points of many colors and sizes.\n",
        "\n",
        "rng = np.random.RandomState(0)\n",
        "x = rng.randn(100)\n",
        "y = rng.randn(100)\n",
        "colors = rng.rand(100)\n",
        "sizes = 1000 * rng.rand(100)\n",
        "plt.scatter(x, y, c=colors, s=sizes, alpha=0.3,cmap='viridis')\n",
        "plt.colorbar(); # show color scale\n",
        "\n",
        "# Notice that the color argument is automatically mapped to a color scale (shown here by the colorbar() command), and the size argument is given in pixels. In this way,\n",
        "# the color and size of points can be used to convey information in the visualization, in order to illustrate multidimensional data."
      ],
      "execution_count": null,
      "outputs": []
    },
    {
      "metadata": {
        "trusted": true,
        "id": "E7cQO8--0Bcc"
      },
      "cell_type": "code",
      "source": [
        "#  we might use the Iris data from Scikit-Learn, where each sample is one of three types of flowers that has had the size of its petals and sepals carefully measured\n",
        "\n",
        "from sklearn.datasets import load_iris\n",
        "iris = load_iris()\n",
        "features = iris.data.T\n",
        "plt.scatter(features[0], features[1], alpha=0.2,s=100*features[3], c=iris.target, cmap='viridis')\n",
        "plt.xlabel(iris.feature_names[0])\n",
        "plt.ylabel(iris.feature_names[1])\n"
      ],
      "execution_count": null,
      "outputs": []
    },
    {
      "metadata": {
        "id": "LArO-AOI0Bcc"
      },
      "cell_type": "markdown",
      "source": [
        "<a id=\"section-five\"></a>\n",
        "# Section 5 - Visualizing Errors Density and Contour Plots"
      ]
    },
    {
      "metadata": {
        "trusted": true,
        "id": "-PAiKlcr0Bcc"
      },
      "cell_type": "code",
      "source": [
        "# Basic Errorbars\n",
        "%matplotlib inline\n",
        "import matplotlib.pyplot as plt\n",
        "plt.style.use('seaborn-whitegrid')\n",
        "import numpy as np\n",
        "\n",
        "x=np.linspace(0,10,50)\n",
        "dy=0.9\n",
        "y=np.sin(x)+dy*np.random.randn(50)\n",
        "\n",
        "plt.errorbar(x,y,yerr=dy,fmt='.k')\n",
        "\n",
        "# Here the fmt is a format code controlling the appearance of lines and points, and has the same syntax as the shorthand used in plt.plot"
      ],
      "execution_count": null,
      "outputs": []
    },
    {
      "metadata": {
        "trusted": true,
        "id": "8icbgNvn0Bch"
      },
      "cell_type": "code",
      "source": [
        "# In addition to these basic options, the errorbar function has many options to finetune the outputs. Using these additional options you can easily customize the aesthet‐ics of your errorbar plot\n",
        "\n",
        "plt.errorbar(x,y,yerr=dy,fmt='o',color='black',ecolor='lightgray',elinewidth=3,capsize=0)"
      ],
      "execution_count": null,
      "outputs": []
    },
    {
      "metadata": {
        "id": "H0afJ_T60Bch"
      },
      "cell_type": "markdown",
      "source": [
        "<a id=\"section-six\"></a>\n",
        "# Section 6 - Histograms, Binnings, and Density"
      ]
    },
    {
      "metadata": {
        "id": "SLxSpCDR0Bch"
      },
      "cell_type": "markdown",
      "source": [
        "Sometimes it is useful to display three-dimensional data in two dimensions using\n",
        "contours or color-coded regions. There are three Matplotlib functions that can be\n",
        "helpful for this task: plt.contour for contour plots, plt.contourf for filled contour\n",
        "plots, and plt.imshow for showing images."
      ]
    },
    {
      "metadata": {
        "trusted": true,
        "id": "CmLLRQ_T0Bch"
      },
      "cell_type": "code",
      "source": [
        "%matplotlib inline\n",
        "import matplotlib.pyplot as plt\n",
        "plt.style.use('seaborn-whitegrid')\n",
        "import numpy as np\n",
        "\n",
        "# Visualizing a Three-Dimensional Function\n",
        "\n",
        "\n",
        "# We’ll start by demonstrating a contour plot using a function z = f (x, y)\n",
        "\n",
        "def f(x,y):\n",
        "    return np.sin(x)**10+np.cos(10+y*x)*np.cos(x)\n",
        "\n",
        "\n",
        "# A contour plot can be created with the plt.contour function. It takes three arguments: a grid of x values, a grid of y values, and a grid of z values. The x and y values\n",
        "# represent positions on the plot, and the z values will be represented by the contour levels.\n",
        "\n",
        "x=np.linspace(0,5,60)\n",
        "y=np.linspace(0,5,50)\n",
        "\n",
        "# most straightforward way to prepare such data is to use the np.meshgrid function, which builds two-dimensional grids from one-dimensional arrays\n",
        "\n",
        "X,Y=np.meshgrid(x,y)\n",
        "Z=f(X,Y)\n",
        "\n",
        "# Now let’s look at this with a standard line-only contour plot\n",
        "\n",
        "plt.contour(X,Y,Z,color='black')\n",
        "\n",
        "# Notice that by default when a single color is used, negative values are represented by dashed lines, and positive values by solid lines.\n",
        "\n"
      ],
      "execution_count": null,
      "outputs": []
    },
    {
      "metadata": {
        "trusted": true,
        "id": "EIlY8C9z0Bch"
      },
      "cell_type": "code",
      "source": [
        "plt.contour(X, Y, Z, 20, cmap='RdGy')  # we chose the RdGy (short for Red-Gray) colormap"
      ],
      "execution_count": null,
      "outputs": []
    },
    {
      "metadata": {
        "trusted": true,
        "id": "p8XAYA4Z0Bci"
      },
      "cell_type": "code",
      "source": [
        "# Our plot is looking nicer, but the spaces between the lines may be a bit distracting. We can change this by switching to a filled contour plot using the plt.contourf()\n",
        "# function (notice the f at the end), which uses largely the same syntax as plt.contour()\n",
        "\n",
        "plt.contourf(X, Y, Z, 20, cmap='RdGy')\n",
        "plt.colorbar()\n",
        "\n",
        "# The colorbar makes it clear that the black regions are “peaks,” while the red regions are “valleys.”"
      ],
      "execution_count": null,
      "outputs": []
    },
    {
      "metadata": {
        "trusted": true,
        "id": "bMgNp4AB0Bci"
      },
      "cell_type": "code",
      "source": [
        "# A better way to handle this is to use the plt.imshow() function, which inter‐prets a two-dimensional grid of data as an image.\n",
        "\n",
        "plt.imshow(Z,extent=[0,5,0,5],origin='lower',cmap='RdGy')\n",
        "plt.colorbar()\n",
        "plt.axis(aspect='image')"
      ],
      "execution_count": null,
      "outputs": []
    },
    {
      "metadata": {
        "id": "FqD8VWwd0Bci"
      },
      "cell_type": "markdown",
      "source": [
        "There are a few potential gotchas with imshow(), however:\n",
        "\n",
        "• plt.imshow() doesn’t accept an x and y grid, so you must manually specify the\n",
        "extent [xmin, xmax, ymin, ymax] of the image on the plot.\n",
        "\n",
        "• plt.imshow() by default follows the standard image array definition where the\n",
        "origin is in the upper left, not in the lower left as in most contour plots. This\n",
        "must be changed when showing gridded data.\n",
        "\n",
        "\n",
        "• plt.imshow() will automatically adjust the axis aspect ratio to match the input\n",
        "data; you can change this by setting, for example, plt.axis(aspect='image') to\n",
        "make x and y units match.\n"
      ]
    },
    {
      "metadata": {
        "trusted": true,
        "id": "9nHnJSLu0Bci"
      },
      "cell_type": "code",
      "source": [
        "# Finally, it can sometimes be useful to combine contour plots and image plots. For example, to create the effect shown in Figure 4-34, we’ll use a partially transparent\n",
        "# background image (with transparency set via the alpha parameter) and over-plot contours with labels on the contours themselves (using the plt.clabel() function\n",
        "\n",
        "contours=plt.contour(X,Y,Z,3,color='black')\n",
        "plt.clabel(contours,inline=True,fontsize=8)\n",
        "\n",
        "plt.imshow(Z,extent=[0,5,0,5],origin='lower',cmap='RdGy',alpha=0.5)\n",
        "plt.colorbar()\n",
        "\n",
        "# The combination of these three functions—plt.contour, plt.contourf, and plt.imshow—gives nearly limitless possibilities for displaying this sort of threedimensional data within a two-dimensional plot.\n"
      ],
      "execution_count": null,
      "outputs": []
    },
    {
      "metadata": {
        "id": "76Re9tW10Bci"
      },
      "cell_type": "markdown",
      "source": [
        "<a id=\"section-seven\"></a>\n",
        "# Section 7 - Customizing Plot Legends"
      ]
    },
    {
      "metadata": {
        "trusted": true,
        "id": "zAeppuzw0Bcj"
      },
      "cell_type": "code",
      "source": [
        "# A simple histogram can be a great first step in understanding a dataset. Earlier, we saw a preview of Matplotlib’s histogram function\n",
        "\n",
        "%matplotlib inline\n",
        "import matplotlib.pyplot as plt\n",
        "import numpy as np\n",
        "plt.style.use('seaborn-white')\n",
        "data=np.random.randn(1000)\n",
        "plt.hist(data)\n",
        "\n",
        "\n"
      ],
      "execution_count": null,
      "outputs": []
    },
    {
      "metadata": {
        "trusted": true,
        "id": "_J0YAjsd0Bcj"
      },
      "cell_type": "code",
      "source": [
        "# The hist() function has many options to tune both the calculation and the display; here’s an example of a more customized histogram\n",
        "\n",
        "plt.hist(data, bins=30, alpha=1,histtype='stepfilled', color='red',edgecolor='none')\n",
        "\n",
        "# The plt.hist docstring has more information on other customization options avail‐ able. I find this combination of histtype='stepfilled' along with some transpar‐\n",
        "# ency alpha to be very useful when comparing histograms of several distributions"
      ],
      "execution_count": null,
      "outputs": []
    },
    {
      "metadata": {
        "trusted": true,
        "id": "fRkZHWPP0Bcj"
      },
      "cell_type": "code",
      "source": [
        "x1=np.random.normal(0,0.8,1000)\n",
        "x2=np.random.normal(1,2,1000)\n",
        "x3=np.random.normal(3,4,1000)\n",
        "\n",
        "test = dict(histtype='stepfilled', alpha=0.3, bins=40)\n",
        "\n",
        "plt.hist(x1,**test)\n",
        "plt.hist(x2,**test)\n",
        "plt.hist(x3,**test)\n"
      ],
      "execution_count": null,
      "outputs": []
    },
    {
      "metadata": {
        "trusted": true,
        "id": "Qa9eP-hY0Bcj"
      },
      "cell_type": "code",
      "source": [
        "# If you would like to simply compute the histogram (that is, count the number of points in a given bin) and not display it, the np.histogram() function is available\n",
        "\n",
        "counts, bin_edges = np.histogram(data, bins=5)\n",
        "print(counts)\n"
      ],
      "execution_count": null,
      "outputs": []
    },
    {
      "metadata": {
        "trusted": true,
        "id": "lc_ZqRwq0Bcj"
      },
      "cell_type": "code",
      "source": [
        "# Two-Dimensional Histograms and Binnings\n",
        "\n",
        "# Just as we create histograms in one dimension by dividing the number line into bins, we can also create histograms in two dimensions by dividing points among twodimensional bins\n",
        "\n",
        "# We’ll start by defining some data—an x and y array drawn from a multivariate Gaussian distribution\n",
        "\n",
        "mean = [0, 0]\n",
        "cov = [[1, 1], [1, 2]]\n",
        "x, y = np.random.multivariate_normal(mean, cov, 10000).T\n",
        "\n",
        "# plt.hist2d: Two-dimensional histogram\n",
        "\n",
        "# One straightforward way to plot a two-dimensional histogram is to use Matplotlib’s plt.hist2d function\n",
        "\n",
        "plt.hist2d(x,y,bins=30,cmap='Blues')\n",
        "cb=plt.colorbar()\n",
        "cb.set_label('Counts in bin')\n"
      ],
      "execution_count": null,
      "outputs": []
    },
    {
      "metadata": {
        "id": "gx1G9eYU0Bck"
      },
      "cell_type": "markdown",
      "source": [
        "Just as with plt.hist, plt.hist2d has a number of extra options to fine-tune the plot\n",
        "and the binning, which are nicely outlined in the function docstring. Further, just as\n",
        "plt.hist has a counterpart in np.histogram, plt.hist2d has a counterpart in\n",
        "np.histogram2d, which can be used as follows:"
      ]
    },
    {
      "metadata": {
        "trusted": true,
        "id": "YnCzveOb0Bck"
      },
      "cell_type": "code",
      "source": [
        "counts,xedges,yedges=np.histogram2d(x,y,bins=30)\n",
        "\n",
        "# For the generalization of this histogram binning in dimensions higher than two, see the np.histogramdd function"
      ],
      "execution_count": null,
      "outputs": []
    },
    {
      "metadata": {
        "trusted": true,
        "id": "jDYjUE_X0Bck"
      },
      "cell_type": "code",
      "source": [
        "# plt.hexbin: Hexagonal binnings\n",
        "# The two-dimensional histogram creates a tessellation of squares across the axes. Another natural shape for such a tessellation is the regular hexagon. For this purpose,\n",
        "# Matplotlib provides the plt.hexbin routine, which represents a two-dimensional dataset binned within a grid of hexagons\n",
        "\n",
        "plt.hexbin(x, y, gridsize=30, cmap='Blues')\n",
        "cb = plt.colorbar(label='count in bin')\n",
        "\n",
        "# plt.hexbin has a number of interesting options, including the ability to specify weights for each point, and to change the output in each bin to any NumPy aggregate\n"
      ],
      "execution_count": null,
      "outputs": []
    },
    {
      "metadata": {
        "trusted": true,
        "id": "wh03L6ap0Bck"
      },
      "cell_type": "code",
      "source": [
        "# Kernel density estimation\n",
        "\n",
        "# Another common method of evaluating densities in multiple dimensions is kernel density estimation (KDE)\n",
        "\n",
        "# One extremely quick and simple KDE implementation exists in the scipy.stats package. Here is a quick example of using the KDE on this data\n",
        "\n",
        "from scipy.stats import gaussian_kde\n",
        "\n",
        "# fit an array of size [Ndim, Nsamples]\n",
        "\n",
        "data=np.vstack([x,y])\n",
        "kde=gaussian_kde(data)\n",
        "\n",
        "# evaluate on a regular grid\n",
        "\n",
        "xgrid = np.linspace(-3.5, 3.5, 40)\n",
        "ygrid = np.linspace(-6, 6, 40)\n",
        "Xgrid, Ygrid = np.meshgrid(xgrid, ygrid)\n",
        "Z = kde.evaluate(np.vstack([Xgrid.ravel(), Ygrid.ravel()]))\n",
        "\n",
        "# Plot the result as an image\n",
        "\n",
        "plt.imshow(Z.reshape(Xgrid.shape),origin='lower', aspect='auto', extent=[-3.5, 3.5, -6, 6],cmap='Blues')\n",
        "cb = plt.colorbar()\n",
        "cb.set_label(\"density\")\n",
        "\n",
        "\n"
      ],
      "execution_count": null,
      "outputs": []
    },
    {
      "metadata": {
        "id": "cjl4ntnl0Bcl"
      },
      "cell_type": "markdown",
      "source": [
        "<a id=\"section-eight\"></a>\n",
        "# Section 8 - Multiple Subplots\n"
      ]
    },
    {
      "metadata": {
        "trusted": true,
        "id": "6Hot4SpO0Bcl"
      },
      "cell_type": "code",
      "source": [
        "# Plot legends give meaning to a visualization, assigning labels to the various plot ele‐ments. We previously saw how to create a simple legend; here we’ll take a look at cus‐\n",
        "# tomizing the placement and aesthetics of the legend in Matplotlib\n",
        "\n",
        "import matplotlib.pyplot as plt\n",
        "plt.style.use('classic')\n",
        "%matplotlib inline\n",
        "import numpy as np\n",
        "\n",
        "x=np.linspace(0,10,1000)\n",
        "fig,ax=plt.subplots()\n",
        "ax.plot(x,np.sin(x),'b',label='sine')\n",
        "ax.plot(x, np.cos(x), '--r', label='Cosine')\n",
        "ax.axis('equal')\n",
        "leg=ax.legend()\n"
      ],
      "execution_count": null,
      "outputs": []
    },
    {
      "metadata": {
        "trusted": true,
        "id": "RY2LYGrI0Bcm"
      },
      "cell_type": "code",
      "source": [
        "# But there are many ways we might want to customize such a legend. For example, we can specify the location and turn off the frame\n",
        "\n",
        "ax.legend(loc='upper left',frameon='false')\n",
        "fig"
      ],
      "execution_count": null,
      "outputs": []
    },
    {
      "metadata": {
        "trusted": true,
        "id": "JByOWIb20Bcm"
      },
      "cell_type": "code",
      "source": [
        "# We can use the ncol command to specify the number of columns in the legend\n",
        "\n",
        "ax.legend(frameon=False,loc='lower center',ncol=2)\n",
        "fig"
      ],
      "execution_count": null,
      "outputs": []
    },
    {
      "metadata": {
        "trusted": true,
        "id": "OTP0wL8z0Bcm"
      },
      "cell_type": "code",
      "source": [
        "# We can use a rounded box (fancybox) or add a shadow, change the transparency (alpha value) of the frame, or change the padding around the text\n",
        "\n",
        "ax.legend(fancybox=True, framealpha=1, shadow=True, borderpad=1)\n",
        "fig"
      ],
      "execution_count": null,
      "outputs": []
    },
    {
      "metadata": {
        "trusted": true,
        "id": "Ux36MYoF0Bcm"
      },
      "cell_type": "code",
      "source": [
        "# Choosing Elements for the Legend\n",
        "\n",
        "# The plt.plot() command is able to create multiple lines at once, and returns a list of created line instances. Passing any of\n",
        "# these to plt.legend() will tell it which to identify, along with the labels we’d like to specify\n",
        "\n",
        "y=np.sin(x[:, np.newaxis] + np.pi * np.arange(0, 2, 0.5))\n",
        "lines=plt.plot(x,y)\n",
        "\n",
        "# lines is a list of plt.Line2D instances\n",
        "plt.legend(lines[:2], ['first', 'second'])\n"
      ],
      "execution_count": null,
      "outputs": []
    },
    {
      "metadata": {
        "trusted": true,
        "id": "1Fnl6IZW0Bcm"
      },
      "cell_type": "code",
      "source": [
        "# I generally find in practice that it is clearer to use the first method, applying labels to the plot elements you’d like to show on the legend\n",
        "\n",
        "plt.plot(x, y[:, 0], label='first')\n",
        "plt.plot(x, y[:, 1], label='second')\n",
        "plt.plot(x, y[:, 2:])\n",
        "plt.legend(framealpha=1, frameon=True)"
      ],
      "execution_count": null,
      "outputs": []
    },
    {
      "metadata": {
        "trusted": true,
        "id": "msY1mp6S0Bcm"
      },
      "cell_type": "code",
      "source": [
        "# Multiple Legends\n",
        "# creating a new legend artist from scratch, and then using the lower-level ax.add_artist() method to manually add the second artist to the plot\n",
        "\n",
        "fig,ax=plt.subplots()\n",
        "lines=[]\n",
        "styles= ['-', '--', '-.', ':']\n",
        "x = np.linspace(0, 10, 1000)\n",
        "\n",
        "for i in range(4):\n",
        "    lines += ax.plot(x, np.sin(x - i * np.pi / 2),styles[i], color='black')\n",
        "\n",
        "ax.axis('equal')\n",
        "\n",
        "# specify the lines and labels of the first legend\n",
        "ax.legend(lines[:2], ['line A', 'line B'],loc='upper right', frameon=False)\n",
        "\n",
        "# Create the second legend and add the artist manually.\n",
        "from matplotlib.legend import Legend\n",
        "\n",
        "leg = Legend(ax, lines[2:], ['line C', 'line D'],loc='lower right', frameon=False)\n",
        "ax.add_artist(leg)\n",
        "\n",
        "\n"
      ],
      "execution_count": null,
      "outputs": []
    },
    {
      "metadata": {
        "trusted": true,
        "id": "rzv_qKEV0Bcn"
      },
      "cell_type": "code",
      "source": [
        "# Customizing Colorbars\n",
        "\n",
        "import matplotlib.pyplot as plt\n",
        "plt.style.use('classic')\n",
        "\n",
        "%matplotlib inline\n",
        "import numpy as np\n",
        "\n",
        "# As we have seen several times throughout this section, the simplest colorbar can be created with the plt.colorbar function\n",
        "\n",
        "x = np.linspace(0, 10, 1000)\n",
        "I = np.sin(x) * np.cos(x[:, np.newaxis])\n",
        "\n",
        "plt.imshow(I)\n",
        "plt.colorbar()\n",
        "\n"
      ],
      "execution_count": null,
      "outputs": []
    },
    {
      "metadata": {
        "trusted": true,
        "id": "444TYNi70Bcn"
      },
      "cell_type": "code",
      "source": [
        "# We can specify the colormap using the cmap argument to the plotting function that is creating the visualization\n",
        "\n",
        "plt.imshow(I,cmap='gray')"
      ],
      "execution_count": null,
      "outputs": []
    },
    {
      "metadata": {
        "id": "hPLT2cNO0Bcn"
      },
      "cell_type": "markdown",
      "source": [
        "![image.png](attachment:image.png)"
      ]
    },
    {
      "metadata": {
        "trusted": true,
        "id": "6q3QP7-i0Bcn"
      },
      "cell_type": "code",
      "source": [
        "from matplotlib.colors import LinearSegmentedColormap\n",
        "\n",
        "def grayscale_cmap(cmap):\n",
        " \"\"\"Return a grayscale version of the given colormap\"\"\"\n",
        " cmap = plt.cm.get_cmap(cmap)\n",
        " colors = cmap(np.arange(cmap.N))\n",
        " # convert RGBA to perceived grayscale luminance\n",
        " # cf. http://alienryderflex.com/hsp.html\n",
        " RGB_weight = [0.299, 0.587, 0.114]\n",
        " luminance = np.sqrt(np.dot(colors[:, :3] ** 2, RGB_weight))\n",
        " colors[:, :3] = luminance[:, np.newaxis]\n",
        " return LinearSegmentedColormap.from_list(cmap.name + \"_gray\", colors, cmap.N)\n"
      ],
      "execution_count": null,
      "outputs": []
    },
    {
      "metadata": {
        "trusted": true,
        "id": "iD5SZfhc0Bco"
      },
      "cell_type": "code",
      "source": [
        "def view_colormap(cmap):\n",
        " \"\"\"Plot a colormap with its grayscale equivalent\"\"\"\n",
        " cmap = plt.cm.get_cmap(cmap)\n",
        " colors = cmap(np.arange(cmap.N))\n",
        " cmap = grayscale_cmap(cmap)\n",
        " grayscale = cmap(np.arange(cmap.N))\n",
        " fig, ax = plt.subplots(2, figsize=(6, 2),\n",
        " subplot_kw=dict(xticks=[], yticks=[]))\n",
        " ax[0].imshow([colors], extent=[0, 10, 0, 1])\n",
        " ax[1].imshow([grayscale], extent=[0, 10, 0, 1])\n",
        "\n",
        " view_colormap('jet')"
      ],
      "execution_count": null,
      "outputs": []
    },
    {
      "metadata": {
        "trusted": true,
        "id": "n_hTYOSq0Bco"
      },
      "cell_type": "code",
      "source": [
        "# Color limits and extensions\n",
        "\n",
        "# Matplotlib allows for a large range of colorbar customization. The colorbar itself is simply an instance of plt.Axes, so all of the axes and tick formatting tricks we’ve\n",
        "# learned are applicable. The colorbar has some interesting flexibility; for example, we can narrow the color limits and indicate the out-of-bounds values with a triangular\n",
        "# arrow at the top and bottom by setting the extend property. This might come in handy"
      ],
      "execution_count": null,
      "outputs": []
    },
    {
      "metadata": {
        "trusted": true,
        "id": "oqFw-X3q0Bco"
      },
      "cell_type": "code",
      "source": [
        "# make noise in 1% of the image pixels\n",
        "speckles = (np.random.random(I.shape) < 0.01)\n",
        "I[speckles] = np.random.normal(0, 3, np.count_nonzero(speckles))\n",
        "plt.figure(figsize=(10, 3.5))\n",
        "plt.subplot(1, 2, 1)\n",
        "plt.imshow(I, cmap='RdBu')\n",
        "plt.colorbar()\n",
        "plt.subplot(1, 2, 2)\n",
        "plt.imshow(I, cmap='RdBu')\n",
        "plt.colorbar(extend='both')\n",
        "plt.clim(-1, 1)"
      ],
      "execution_count": null,
      "outputs": []
    },
    {
      "metadata": {
        "trusted": true,
        "id": "t8bF4RVh0Bco"
      },
      "cell_type": "code",
      "source": [
        "# Discrete colorbars\n",
        "\n",
        "# Colormaps are by default continuous, but sometimes you’d like to represent discrete values. The easiest way to do this is to use the plt.cm.get_cmap() function, and pass\n",
        "# the name of a suitable colormap along with the number of desired bins\n",
        "\n",
        "plt.imshow(I,cmap=plt.cm.get_cmap('Blues',6))\n",
        "plt.colorbar()\n",
        "plt.clim(-1,1)"
      ],
      "execution_count": null,
      "outputs": []
    },
    {
      "metadata": {
        "trusted": true,
        "id": "sBZeLVIU0Bco"
      },
      "cell_type": "code",
      "source": [
        "# Example: Handwritten Digits\n",
        "\n",
        "# load images of the digits 0 through 5 and visualize several of them\n",
        "\n",
        "from sklearn.datasets import load_digits\n",
        "digits=load_digits(n_class=6)\n",
        "\n",
        "fig,ax=plt.subplots(8,8,figsize=(6, 6))\n",
        "for i, axi in enumerate(ax.flat):\n",
        "     axi.imshow(digits.images[i], cmap='binary')\n",
        "     axi.set(xticks=[], yticks=[])"
      ],
      "execution_count": null,
      "outputs": []
    },
    {
      "metadata": {
        "trusted": true,
        "id": "hquIgth10Bcp"
      },
      "cell_type": "code",
      "source": [
        "## project the digits into 2 dimensions using IsoMap\n",
        "\n",
        "from sklearn.manifold import Isomap\n",
        "iso=Isomap(n_components=2)\n",
        "projection=iso.fit_transform(digits.data)\n",
        "\n",
        "# plot the results\n",
        "\n",
        "plt.scatter(projection[:, 0], projection[:, 1], lw=0.1,c=digits.target, cmap=plt.cm.get_cmap('cubehelix', 6))\n",
        "plt.colorbar(ticks=range(6), label='digit value')\n",
        "plt.clim(-0.5, 5.5)\n",
        "\n"
      ],
      "execution_count": null,
      "outputs": []
    },
    {
      "metadata": {
        "id": "BRPzY2Hl0Bcp"
      },
      "cell_type": "markdown",
      "source": [
        "<a id=\"section-nine\"></a>\n",
        "# Section 9 - Multiple Plots"
      ]
    },
    {
      "metadata": {
        "id": "cj3kw93w0Bcp"
      },
      "cell_type": "markdown",
      "source": [
        "The most basic method of creating an axes is to use the plt.axes function. As we’ve\n",
        "seen previously, by default this creates a standard axes object that fills the entire fig‐\n",
        "ure. plt.axes also takes an optional argument that is a list of four numbers in the\n",
        "figure coordinate system. These numbers represent [bottom, left, width,\n",
        "height] in the figure coordinate system, which ranges from 0 at the bottom left of the\n",
        "figure to 1 at the top right of the figure.\n",
        "For example, we might create an inset axes at the top-right corner of another axes by\n",
        "setting the x and y position to 0.65 (that is, starting at 65% of the width and 65% of\n",
        "the height of the figure) and the x and y extents to 0.2 (that is, the size of the axes is\n",
        "20% of the width and 20% of the height of the figure)."
      ]
    },
    {
      "metadata": {
        "trusted": true,
        "id": "-SMQYkMb0Bcp"
      },
      "cell_type": "code",
      "source": [
        "%matplotlib inline\n",
        "import matplotlib.pyplot as plt\n",
        "plt.style.use('seaborn-white')\n",
        "import numpy as np\n",
        "\n",
        "# plt.axes: Subplots by Hand\n",
        "\n",
        "ax1=plt.axes()  # standard axes\n",
        "ax2=plt.axes([0.65,0.65,0.2,0.2])"
      ],
      "execution_count": null,
      "outputs": []
    },
    {
      "metadata": {
        "trusted": true,
        "id": "OlDSJC3A0Bcp"
      },
      "cell_type": "code",
      "source": [
        "# The equivalent of this command within the object-oriented interface is fig.add_axes(). Let’s use this to create two vertically stacked axes\n",
        "fig=plt.figure()\n",
        "ax1 = fig.add_axes([0.1, 0.5, 0.8, 0.4],xticklabels=[], ylim=(-1.2, 1.2))\n",
        "ax2 = fig.add_axes([0.1, 0.1, 0.8, 0.4],ylim=(-1.2, 1.2))\n",
        "x=np.linspace(0,10)\n",
        "ax1.plot(np.sin(x))\n",
        "ax2.plot(np.cos(x))"
      ],
      "execution_count": null,
      "outputs": []
    },
    {
      "metadata": {
        "trusted": true,
        "id": "OlXRwxRo0Bcp"
      },
      "cell_type": "code",
      "source": [
        "# plt.subplot: Simple Grids of Subplots\n",
        "for i in range(1, 7):\n",
        " plt.subplot(2, 3, i)\n",
        " plt.text(0.5, 0.5, str((2, 3, i)),fontsize=18, ha='center')\n",
        ""
      ],
      "execution_count": null,
      "outputs": []
    },
    {
      "metadata": {
        "trusted": true,
        "id": "yGzlWnh30Bcp"
      },
      "cell_type": "code",
      "source": [
        "# The command plt.subplots_adjust can be used to adjust the spacing between these plots.\n",
        "\n",
        "fig=plt.figure()\n",
        "fig.subplots_adjust(hspace=0.4,wspace=0.4)\n",
        "for i in range(1,7):\n",
        "    ax = fig.add_subplot(2, 3, i)\n",
        "    ax.text(0.5, 0.5, str((2, 3, i)),fontsize=18, ha='center')"
      ],
      "execution_count": null,
      "outputs": []
    },
    {
      "metadata": {
        "trusted": true,
        "id": "nilLOM200Bcq"
      },
      "cell_type": "code",
      "source": [
        "# plt.subplots: The Whole Grid in One Go\n",
        "\n",
        "# Here we’ll create a 2×3 grid of subplots, where all axes in the same row share their y-axis scale, and all axes in the same column share their x-axis scale\n",
        "\n",
        "fig,ax= plt.subplots(2,3,sharex='col',sharey='row')\n"
      ],
      "execution_count": null,
      "outputs": []
    },
    {
      "metadata": {
        "trusted": true,
        "id": "1VWHq8O40Bcq"
      },
      "cell_type": "code",
      "source": [
        "# # axes are in a two-dimensional array, indexed by [row, col]\n",
        "for i in range(2):\n",
        "    for j in range(3):\n",
        "        ax[i,j].text(0.5,0.5,str((i,j)),fontsize=18,ha='center')\n",
        "\n",
        "fig\n",
        "\n",
        "# In comparison to plt.subplot(), plt.subplots() is more consistent with Python’s conventional 0-based indexing"
      ],
      "execution_count": null,
      "outputs": []
    },
    {
      "metadata": {
        "trusted": true,
        "id": "VEbStcuv0Bcq"
      },
      "cell_type": "code",
      "source": [
        "# plt.GridSpec: More Complicated Arrangements\n",
        "\n",
        "grid=plt.GridSpec(2,3,wspace=0.4,hspace=0.4)\n",
        "\n",
        "#From this we can specify subplot locations and extents using the familiar Python slic‐ing syntax\n",
        "\n",
        "plt.subplot(grid[0,0])\n",
        "plt.subplot(grid[0, 1:])\n",
        "plt.subplot(grid[1, :2])\n",
        "plt.subplot(grid[1, 2])"
      ],
      "execution_count": null,
      "outputs": []
    },
    {
      "metadata": {
        "trusted": true,
        "id": "BE3St3kb0Bcq"
      },
      "cell_type": "code",
      "source": [
        "# # Create some normally distributed data\n",
        "\n",
        "# Create some normally distributed data\n",
        "mean = [0, 0]\n",
        "cov = [[1, 1], [1, 2]]\n",
        "x, y = np.random.multivariate_normal(mean, cov, 3000).T\n",
        "# Set up the axes with gridspec\n",
        "fig = plt.figure(figsize=(6, 6))\n",
        "grid = plt.GridSpec(4, 4, hspace=0.2, wspace=0.2)\n",
        "main_ax = fig.add_subplot(grid[:-1, 1:])\n",
        "y_hist = fig.add_subplot(grid[:-1, 0], xticklabels=[], sharey=main_ax)\n",
        "x_hist = fig.add_subplot(grid[-1, 1:], yticklabels=[], sharex=main_ax)\n",
        "\n",
        "\n",
        "# scatter points on the main axes\n",
        "main_ax.plot(x, y, 'ok', markersize=3, alpha=0.2)\n",
        "# histogram on the attached axes\n",
        "x_hist.hist(x, 40, histtype='stepfilled',\n",
        "orientation='vertical', color='gray')\n",
        "x_hist.invert_yaxis()\n",
        "y_hist.hist(y, 40, histtype='stepfilled',orientation='horizontal', color='gray')\n",
        "y_hist.invert_xaxis()\n"
      ],
      "execution_count": null,
      "outputs": []
    },
    {
      "metadata": {
        "id": "siW5TPmx0Bcr"
      },
      "cell_type": "markdown",
      "source": [
        "<a id=\"section-ten\"></a>\n",
        "# Section 10 - Text & Annotation/Text Position/Arrow Position"
      ]
    },
    {
      "metadata": {
        "trusted": true,
        "id": "8AMSZuEA0Bcr"
      },
      "cell_type": "code",
      "source": [
        "# Text and Annotation\n",
        "%matplotlib inline\n",
        "import matplotlib.pyplot as plt\n",
        "import matplotlib as mpl\n",
        "plt.style.use('seaborn-whitegrid')\n",
        "import numpy as np\n",
        "import pandas as pd"
      ],
      "execution_count": null,
      "outputs": []
    },
    {
      "metadata": {
        "trusted": true,
        "id": "DIXr1cbK0Bcr"
      },
      "cell_type": "code",
      "source": [
        "fig,ax=plt.subplots(facecolor='lightgray')\n",
        "ax.axis([0,10,0,10])\n",
        "\n",
        "# transform=ax.transData is the default, but we'll specify it anyway\n",
        "\n",
        "ax.text(1,5,\".Data:(1,5)\",transform=ax.transData)\n",
        "ax.text(0.5, 0.1, \". Axes: (0.5, 0.1)\", transform=ax.transAxes)\n",
        "ax.text(0.2, 0.2, \". Figure: (0.2, 0.2)\", transform=fig.transFigure)\n",
        "\n",
        "ax.set_ylim(-6,6)\n",
        "ax.set_xlim(0,2)\n",
        "fig"
      ],
      "execution_count": null,
      "outputs": []
    },
    {
      "metadata": {
        "trusted": true,
        "id": "gJxJl5O90Bcr"
      },
      "cell_type": "code",
      "source": [
        "# Arrows and Annotation\n",
        "\n",
        "# using the plt.annotate() function. This function creates some text and an arrow, and the arrows can be very flexibly specified.\n",
        "\n",
        "%matplotlib inline\n",
        "import matplotlib.pyplot as plt\n",
        "fig, ax = plt.subplots()\n",
        "x = np.linspace(0, 20, 1000)\n",
        "ax.plot(x, np.cos(x))\n",
        "ax.axis('equal')\n",
        "\n",
        "ax.annotate('local maximum', xy=(6.28, 1), xytext=(10, 4),arrowprops=dict(facecolor='red', shrink=5.05))\n",
        "ax.annotate('local minimum', xy=(5 * np.pi, -1), xytext=(2, -6),arrowprops=dict(arrowstyle=\"->\",connectionstyle=\"angle3,angleA=0,angleB=-90\"))"
      ],
      "execution_count": null,
      "outputs": []
    },
    {
      "metadata": {
        "trusted": true,
        "id": "kYoEFI_Z0Bcr"
      },
      "cell_type": "code",
      "source": [
        "# The arrow style is controlled through the arrowprops dictionary, which has numerous options available.\n",
        "\n",
        "%matplotlib inline\n",
        "import matplotlib.pyplot as plt\n",
        "fig, ax = plt.subplots()\n",
        "x = np.linspace(0, 20, 2000)\n",
        "ax.plot(x, np.cos(x))\n",
        "ax.axis('equal')"
      ],
      "execution_count": null,
      "outputs": []
    },
    {
      "metadata": {
        "trusted": true,
        "id": "YQtdXxow0Bcr"
      },
      "cell_type": "code",
      "source": [
        "# Customizing Ticks #Major and Minor Ticks\n",
        "\n",
        "%matplotlib inline\n",
        "import matplotlib.pyplot as plt\n",
        "plt.style.use('seaborn-whitegrid')\n",
        "import numpy as np\n",
        "\n",
        "ax = plt.axes(xscale='log', yscale='log')\n",
        "\n",
        "print(ax.xaxis.get_major_locator())\n",
        "print(ax.xaxis.get_minor_locator())"
      ],
      "execution_count": null,
      "outputs": []
    },
    {
      "metadata": {
        "trusted": true,
        "id": "aV6_W7b60Bcs"
      },
      "cell_type": "code",
      "source": [
        "print(ax.xaxis.get_major_formatter())\n",
        "print(ax.xaxis.get_minor_formatter())"
      ],
      "execution_count": null,
      "outputs": []
    },
    {
      "metadata": {
        "trusted": true,
        "id": "6SyqwUpT0Bcs"
      },
      "cell_type": "code",
      "source": [
        "# Hiding Ticks or Labels\n",
        "\n",
        "# the most common tick/label formatting operation is the act of hiding ticks or labels. We can do this using plt.NullLocator() and plt.NullFormatter()\n",
        "\n",
        "ax=plt.axes()\n",
        "ax.plot(np.random.rand(50))\n",
        "\n",
        "ax.yaxis.set_major_locator(plt.NullLocator())\n",
        "ax.xaxis.set_major_formatter(plt.NullFormatter())\n"
      ],
      "execution_count": null,
      "outputs": []
    },
    {
      "metadata": {
        "trusted": true,
        "id": "RnP6n96_0Bcs"
      },
      "cell_type": "code",
      "source": [
        "fig,ax=plt.subplots(5,5,figsize=(5,5))\n",
        "fig.subplots_adjust(hspace=0,wspace=0)\n",
        "\n",
        "# Get some face data from scikit-learn\n",
        "\n",
        "from sklearn.datasets import fetch_olivetti_faces\n",
        "faces = fetch_olivetti_faces().images\n",
        "\n",
        "for i in range(5):\n",
        "    for j in range(5):\n",
        "        ax[i, j].xaxis.set_major_locator(plt.NullLocator())\n",
        "        ax[i, j].yaxis.set_major_locator(plt.NullLocator())\n",
        "        ax[i, j].imshow(faces[10 * i + j], cmap=\"bone\")"
      ],
      "execution_count": null,
      "outputs": []
    },
    {
      "metadata": {
        "trusted": true,
        "id": "WVAZWUFu0Bcs"
      },
      "cell_type": "code",
      "source": [
        "# Reducing or Increasing the Number of Ticks\n",
        "\n",
        "fig,ax=plt.subplots(4,4,sharex=True,sharey=True)"
      ],
      "execution_count": null,
      "outputs": []
    },
    {
      "metadata": {
        "trusted": true,
        "id": "WT8x-Nyr0Bcs"
      },
      "cell_type": "code",
      "source": [
        "# plt.MaxNLocator(), which allows us to specify the maximum number of ticks that will be displayed\n",
        "# # For every axis, set the x and y major locator\n",
        "\n",
        "for axi in ax.flat:\n",
        "     axi.xaxis.set_major_locator(plt.MaxNLocator(3))\n",
        "     axi.yaxis.set_major_locator(plt.MaxNLocator(3))\n",
        "\n",
        "\n",
        "fig\n"
      ],
      "execution_count": null,
      "outputs": []
    },
    {
      "metadata": {
        "trusted": true,
        "id": "6HaaQZO30Bcs"
      },
      "cell_type": "code",
      "source": [
        "# Fancy Tick Formats\n",
        "\n",
        "# Plot a sine and cosine curve\n",
        "fig, ax = plt.subplots()\n",
        "x = np.linspace(0, 3 * np.pi, 1000)\n",
        "ax.plot(x, np.sin(x), lw=3, label='Sine')\n",
        "ax.plot(x, np.cos(x), lw=3, label='Cosine')\n",
        "\n",
        "# Set up grid, legend, and limits\n",
        "\n",
        "ax.grid(True)\n",
        "ax.legend(frameon=False)\n",
        "ax.axis('equal')\n",
        "ax.set_xlim(0, 3 * np.pi)\n",
        "\n",
        "\n",
        "ax.xaxis.set_major_locator(plt.MultipleLocator(np.pi / 2))\n",
        "ax.xaxis.set_minor_locator(plt.MultipleLocator(np.pi / 4))\n",
        "fig"
      ],
      "execution_count": null,
      "outputs": []
    },
    {
      "metadata": {
        "trusted": true,
        "id": "VYeV0ISS0Bct"
      },
      "cell_type": "code",
      "source": [
        "def format_func(value,tick_number):\n",
        "# find number of multiples of pi/2\n",
        "# we’ll instead use plt.FuncFormatter, which accepts a user-defined function giving fine-grained control over the tick outputs\n",
        "    N=int(np.round(2*value/np.pi))\n",
        "    if N==0:\n",
        "        return \"0\"\n",
        "    elif N==1:\n",
        "        return r\"$\\pi/2$\"\n",
        "    elif N==2:\n",
        "        return r\"$\\pi$\"\n",
        "    elif N%2>0:\n",
        "        return r\"${0}\\pi/2$\".format(N)\n",
        "    else:\n",
        "        return r\"${0}\\pi$\".format(N // 2)\n",
        "\n",
        "\n",
        "ax.xaxis.set_major_formatter(plt.FuncFormatter(format_func))\n",
        "\n",
        "fig\n",
        "\n",
        ""
      ],
      "execution_count": null,
      "outputs": []
    },
    {
      "metadata": {
        "id": "CBcZNwCZ0Bct"
      },
      "cell_type": "markdown",
      "source": [
        "<a id=\"section-eleven\"></a>\n",
        "# Section 11 - Customizing Matplotlib: Configurations and Stylesheets"
      ]
    },
    {
      "metadata": {
        "trusted": true,
        "id": "XTVMPZJ80Bct"
      },
      "cell_type": "code",
      "source": [
        "# Plot Customization by Hand\n",
        "\n",
        "import matplotlib.pyplot as plt\n",
        "plt.style.use('classic')\n",
        "import numpy as np\n",
        "%matplotlib inline\n",
        "\n",
        "x=np.random.randn(1000)\n",
        "plt.hist(x)\n",
        "\n",
        "# We can adjust this by hand to make it a much more visually pleasing plot\n",
        "\n",
        "\n",
        "# draw solid white grid lines\n",
        "plt.grid(color='w', linestyle='solid')\n",
        "\n",
        "# hide axis spines\n",
        "for spine in ax.spines.values():\n",
        "    spine.set_visible(False)\n",
        "\n",
        "\n"
      ],
      "execution_count": null,
      "outputs": []
    },
    {
      "metadata": {
        "trusted": true,
        "id": "-Qd3-fhq0Bct"
      },
      "cell_type": "code",
      "source": [
        "#Changing the Defaults: rcParams\n",
        "# We’ll start by saving a copy of the current rcParams dictionary, so we can easily reset these changes in the current session\n",
        "\n",
        "IPython_default=plt.rcParams.copy()\n",
        "\n",
        "#Now we can use the plt.rc function to change some of these settings\n",
        "\n",
        "from matplotlib import cycler\n",
        "colors=cycler('color',['#EE6666', '#3388BB', '#9988DD','#EECC55', '#88BB44', '#FFBBBB'])\n",
        "plt.rc('axes', facecolor='#E6E6E6', edgecolor='none',axisbelow=True, grid=True, prop_cycle=colors)\n",
        "plt.rc('grid', color='w', linestyle='solid')\n",
        "plt.rc('xtick', direction='out', color='gray')\n",
        "plt.rc('ytick', direction='out', color='gray')\n",
        "plt.rc('patch', edgecolor='#E6E6E6')\n",
        "plt.rc('lines', linewidth=2)\n",
        "\n",
        "plt.hist(x)"
      ],
      "execution_count": null,
      "outputs": []
    },
    {
      "metadata": {
        "trusted": true,
        "id": "jfscWMmf0Bct"
      },
      "cell_type": "code",
      "source": [
        "for i in range(4):\n",
        "    plt.plot(np.random.rand(10))\n",
        ""
      ],
      "execution_count": null,
      "outputs": []
    },
    {
      "metadata": {
        "trusted": true,
        "id": "0ruEP5HG0Bct"
      },
      "cell_type": "code",
      "source": [
        "# Stylesheets\n",
        "# The available styles are listed in plt.style.available\n",
        "\n",
        "plt.style.available[:5]\n",
        "\n",
        "#The basic way to switch to a stylesheet is to call\n",
        "\n"
      ],
      "execution_count": null,
      "outputs": []
    },
    {
      "metadata": {
        "trusted": true,
        "id": "CprlzOwB0Bcu"
      },
      "cell_type": "code",
      "source": [
        "# Let’s create a function that will make two basic types of plot:\n",
        "\n",
        "def hist_and_lines():\n",
        "    np.random.seed(0)\n",
        "    fig,ax=plt.subplots(1,2,figsize=(11, 4))\n",
        "    ax[0].hist(np.random.randn(1000))\n",
        "    for i in range(3):\n",
        "        ax[1].plot(np.random.rand(10))\n",
        "    ax[1].legend(['a', 'b', 'c'], loc='lower left')"
      ],
      "execution_count": null,
      "outputs": []
    },
    {
      "metadata": {
        "trusted": true,
        "id": "16oUOPq00Bcu"
      },
      "cell_type": "code",
      "source": [
        "#Default style\n",
        "\n",
        "# reset rcParams\n",
        "\n",
        "hist_and_lines()"
      ],
      "execution_count": null,
      "outputs": []
    },
    {
      "metadata": {
        "trusted": true,
        "id": "_hcqFmuh0Bcu"
      },
      "cell_type": "code",
      "source": [
        "#FiveThirtyEight style\n",
        "with plt.style.context('fivethirtyeight'):\n",
        "    hist_and_lines()"
      ],
      "execution_count": null,
      "outputs": []
    },
    {
      "metadata": {
        "trusted": true,
        "id": "QfILvcjP0Bcu"
      },
      "cell_type": "code",
      "source": [
        "# ggplot\n",
        "with plt.style.context('ggplot'):\n",
        " hist_and_lines()"
      ],
      "execution_count": null,
      "outputs": []
    },
    {
      "metadata": {
        "trusted": true,
        "id": "rdIuQwvB0Bcu"
      },
      "cell_type": "code",
      "source": [
        "#Bayesian Methods for Hackers style\n",
        "with plt.style.context('bmh'):\n",
        " hist_and_lines()"
      ],
      "execution_count": null,
      "outputs": []
    },
    {
      "metadata": {
        "trusted": true,
        "id": "uSk9r0Gu0Bcu"
      },
      "cell_type": "code",
      "source": [
        "# Dark background\n",
        "\n",
        "with plt.style.context('dark_background'):\n",
        "     hist_and_lines()"
      ],
      "execution_count": null,
      "outputs": []
    },
    {
      "metadata": {
        "trusted": true,
        "id": "mETKHf-I0Bcu"
      },
      "cell_type": "code",
      "source": [
        "# Grayscale\n",
        "with plt.style.context('grayscale'):\n",
        "     hist_and_lines()"
      ],
      "execution_count": null,
      "outputs": []
    },
    {
      "metadata": {
        "trusted": true,
        "id": "XTzxw9J60Bcv"
      },
      "cell_type": "code",
      "source": [
        "# Seaborn style\n",
        "\n",
        "import seaborn\n",
        "hist_and_lines()"
      ],
      "execution_count": null,
      "outputs": []
    },
    {
      "metadata": {
        "id": "z9s0D81O0Bcv"
      },
      "cell_type": "markdown",
      "source": [
        "<a id=\"section-twelve\"></a>\n",
        "# Section 12 - Three-Dimensional Plotting in Matplotlib"
      ]
    },
    {
      "metadata": {
        "trusted": true,
        "id": "CEqw7TK30Bcv"
      },
      "cell_type": "code",
      "source": [
        "# We enable three-dimensional plots by importing the mplot3d toolkit\n",
        "from mpl_toolkits import mplot3d\n",
        "\n",
        "# Once this submodule is imported, we can create a three-dimensional axes by passing the keyword projection='3d' to any of the normal axes creation routines\n",
        "\n",
        "%matplotlib inline\n",
        "import numpy as np\n",
        "import matplotlib.pyplot as plt\n",
        "\n",
        "fig = plt.figure()\n",
        "ax = plt.axes(projection='3d')"
      ],
      "execution_count": null,
      "outputs": []
    },
    {
      "metadata": {
        "trusted": true,
        "id": "cUPAAjOa0Bcv"
      },
      "cell_type": "code",
      "source": [
        "# Three-Dimensional Points and Lines\n",
        "#we can create these using the ax.plot3D and ax.scatter3D functions.\n",
        "\n",
        "ax=plt.axes(projection='3d')\n",
        "# Data for a three-dimensional line\n",
        "\n",
        "zline=np.linspace(0,15,1000)\n",
        "yline=np.cos(zline)\n",
        "xline=np.sin(zline)\n",
        "\n",
        "ax.plot3D(xline,yline,zline,'red')\n",
        "\n",
        "## Data for three-dimensional scattered points\n",
        "\n",
        "zdata = 15 * np.random.random(100)\n",
        "xdata = np.sin(zdata) + 0.1 * np.random.randn(100)\n",
        "ydata = np.cos(zdata) + 0.1 * np.random.randn(100)\n",
        "ax.scatter3D(xdata, ydata, zdata, c=zdata, cmap='Greens')\n",
        "\n",
        "\n"
      ],
      "execution_count": null,
      "outputs": []
    },
    {
      "metadata": {
        "trusted": true,
        "id": "79R0KatZ0Bcv"
      },
      "cell_type": "code",
      "source": [
        "#Three-Dimensional Contour Plots\n",
        "\n",
        "def f(x,y):\n",
        "    return np.sin(np.sqrt(x**2+y**2))\n",
        "\n",
        "x = np.linspace(-6, 6, 30)\n",
        "y = np.linspace(-6, 6, 30)\n",
        "\n",
        "X,Y=np.meshgrid(x,y)\n",
        "Z=f(X,Y)\n",
        "\n",
        "fig=plt.figure()\n",
        "ax = plt.axes(projection='3d')\n",
        "ax.contour3D(X, Y, Z, 50, cmap='binary')\n",
        "ax.set_xlabel('x')\n",
        "ax.set_ylabel('y')\n",
        "ax.set_zlabel('z')\n",
        "\n",
        "#Sometimes the default viewing angle is not optimal, in which case we can use the view_init method to set the elevation and azimuthal angles.\n",
        "\n",
        "ax.view_init(60,35)\n",
        "fig"
      ],
      "execution_count": null,
      "outputs": []
    },
    {
      "metadata": {
        "trusted": true,
        "id": "Vz6ND_qA0Bcv"
      },
      "cell_type": "code",
      "source": [
        "#Wireframes and Surface Plots\n",
        "fig=plt.figure()\n",
        "ax = plt.axes(projection='3d')\n",
        "ax.plot_wireframe(X, Y, Z, color='black')\n",
        "ax.set_title('wireframe')"
      ],
      "execution_count": null,
      "outputs": []
    },
    {
      "metadata": {
        "trusted": true,
        "id": "cIqfWU6s0Bcv"
      },
      "cell_type": "code",
      "source": [
        "# A surface plot is like a wireframe plot, but each face of the wireframe is a filled poly‐gon. Adding a colormap to the filled polygons can aid perception of the topology of\n",
        "# the surface being visualized\n",
        "\n",
        "ax = plt.axes(projection='3d')\n",
        "ax.plot_surface(X, Y, Z, rstride=1, cstride=1,cmap='viridis', edgecolor='none')\n",
        "ax.set_title('surface')"
      ],
      "execution_count": null,
      "outputs": []
    },
    {
      "metadata": {
        "trusted": true,
        "id": "w9HRWN1p0Bcw"
      },
      "cell_type": "code",
      "source": [
        "r=np.linspace(0,6,20)\n",
        "theta = np.linspace(-0.9 * np.pi, 0.8 * np.pi, 40)\n",
        "r,theta=np.meshgrid(r,theta)\n",
        "X=r*np.sin(theta)\n",
        "Y=r*np.cos(theta)\n",
        "Z=f(X,Y)\n",
        "ax = plt.axes(projection='3d')\n",
        "ax.plot_surface(X, Y, Z, rstride=1, cstride=1,cmap='viridis', edgecolor='none')"
      ],
      "execution_count": null,
      "outputs": []
    },
    {
      "metadata": {
        "trusted": true,
        "id": "FLZTIbvT0Bcw"
      },
      "cell_type": "code",
      "source": [
        "# Surface Triangulations\n",
        "\n",
        "theta = 2 * np.pi * np.random.random(1000)\n",
        "r = 6 * np.random.random(1000)\n",
        "x = np.ravel(r * np.sin(theta))\n",
        "y = np.ravel(r * np.cos(theta))\n",
        "z = f(x, y)\n",
        "\n",
        "# We could create a scatter plot of the points to get an idea of the surface we’re sampling from\n",
        "\n",
        "ax=plt.axes(projection='3d')\n",
        "ax.scatter(x,y,z,c=z,cmap='viridis',linewidth=0.5)\n",
        "\n"
      ],
      "execution_count": null,
      "outputs": []
    },
    {
      "metadata": {
        "trusted": true,
        "id": "FRUymvXv0Bcw"
      },
      "cell_type": "code",
      "source": [
        "# The function that will help us in this case is ax.plot_trisurf, which creates a surface by first finding a set of triangles formed\n",
        "# between adjacent points\n",
        "\n",
        "ax=plt.axes(projection='3d')\n",
        "ax.plot_trisurf(x,y,z,cmap='viridis',edgecolor='none')"
      ],
      "execution_count": null,
      "outputs": []
    },
    {
      "metadata": {
        "trusted": true,
        "id": "P1O7dCXj0Bcw"
      },
      "cell_type": "code",
      "source": [
        "# Example: Visualizing a Möbius strip\n",
        "theta=np.linspace(0,2*np.pi,30)\n",
        "w=np.linspace(-0.25,0.25,8)\n",
        "w,theta=np.meshgrid(w,theta)\n",
        "phi=0.5*theta\n",
        "\n",
        "# radius in x-y plane\n",
        "r = 1 + w * np.cos(phi)\n",
        "\n",
        "x = np.ravel(r * np.cos(theta))\n",
        "y = np.ravel(r * np.sin(theta))\n",
        "z = np.ravel(w * np.sin(phi))\n"
      ],
      "execution_count": null,
      "outputs": []
    },
    {
      "metadata": {
        "trusted": true,
        "id": "yblRJAVv0Bcw"
      },
      "cell_type": "code",
      "source": [
        "# triangulate in the underlying parameterization\n",
        "\n",
        "from matplotlib.tri import Triangulation\n",
        "tri = Triangulation(np.ravel(w), np.ravel(theta))\n",
        "ax = plt.axes(projection='3d')\n",
        "ax.plot_trisurf(x, y, z, triangles=tri.triangles,cmap='viridis', linewidths=0.2)\n",
        "ax.set_xlim(-1, 1); ax.set_ylim(-1, 1); ax.set_zlim(-1, 1)"
      ],
      "execution_count": null,
      "outputs": []
    },
    {
      "metadata": {
        "id": "kPUEDWuy0Bcw"
      },
      "cell_type": "markdown",
      "source": [
        "<a id=\"section-thirteen\"></a>\n",
        "# Section 13 - Visualization with Seaborn"
      ]
    },
    {
      "metadata": {
        "trusted": true,
        "id": "hRTOuB1y0Bcx"
      },
      "cell_type": "code",
      "source": [
        "#Seaborn Versus Matplotlib\n",
        "\n",
        "import matplotlib.pyplot as plt\n",
        "plt.style.use('classic')\n",
        "%matplotlib inline\n",
        "import numpy as np\n",
        "import pandas as pd\n",
        "\n",
        "#Now we create some random walk data:\n",
        "\n",
        "# Create some data\n",
        "\n",
        "rng = np.random.RandomState(0)\n",
        "x=np.linspace(0,10,500)\n",
        "y=np.cumsum(rng.randn(500,6),0)\n",
        "\n",
        "# Plot the data with Matplotlib defaults\n",
        "plt.plot(x,y)\n",
        "plt.legend('ABCDEF',ncol=2,loc='upper left')"
      ],
      "execution_count": null,
      "outputs": []
    },
    {
      "metadata": {
        "id": "CUSwuGF-0Bcx"
      },
      "cell_type": "markdown",
      "source": [
        "Now let’s take a look at how it works with Seaborn. As we will see, Seaborn has many\n",
        "of its own high-level plotting routines, but it can also overwrite Matplotlib’s default\n",
        "parameters and in turn get even simple Matplotlib scripts to produce vastly superior\n",
        "output. We can set the style by calling Seaborn’s set() method. By convention, Sea‐\n",
        "born is imported as sns"
      ]
    },
    {
      "metadata": {
        "trusted": true,
        "id": "oMcAah_C0Bcx"
      },
      "cell_type": "code",
      "source": [
        "import seaborn as sns\n",
        "sns.set()\n",
        "\n",
        "#Now let’s rerun the same two lines as before\n",
        "plt.plot(x,y)\n",
        "plt.legend('ABCDEF', ncol=2, loc='upper left')"
      ],
      "execution_count": null,
      "outputs": []
    },
    {
      "metadata": {
        "trusted": true,
        "id": "abCyYdI00Bcx"
      },
      "cell_type": "code",
      "source": [
        "#Histograms, KDE, and densities\n",
        "# Often in statistical data visualization, all you want is to plot histograms and joint dis‐tributions of variables\n",
        "\n",
        "data = np.random.multivariate_normal([0, 0], [[5, 2], [2, 2]], size=2000)\n",
        "data = pd.DataFrame(data, columns=['x', 'y'])\n",
        "\n",
        "for col in 'xy':\n",
        "     plt.hist(data[col], alpha=0.5)"
      ],
      "execution_count": null,
      "outputs": []
    },
    {
      "metadata": {
        "trusted": true,
        "id": "wDr_HTWv0Bcx"
      },
      "cell_type": "code",
      "source": [
        "# Rather than a histogram, we can get a smooth estimate of the distribution using a kernel density estimation, which Seaborn does with sns.kdeplot\n",
        "\n",
        "for col in 'xy':\n",
        "    sns.kdeplot(data[col],shade=True)"
      ],
      "execution_count": null,
      "outputs": []
    },
    {
      "metadata": {
        "trusted": true,
        "id": "edf-ftWF0Bcy"
      },
      "cell_type": "code",
      "source": [
        "# Histograms and KDE can be combined using distplot\n",
        "\n",
        "sns.distplot(data['x'])\n",
        "sns.distplot(data['y'])"
      ],
      "execution_count": null,
      "outputs": []
    },
    {
      "metadata": {
        "trusted": true,
        "id": "hq1XX9MK0Bcy"
      },
      "cell_type": "code",
      "source": [
        "# If we pass the full two-dimensional dataset to kdeplot, we will get a two-dimensional visualization of the data\n",
        "sns.kdeplot(data)"
      ],
      "execution_count": null,
      "outputs": []
    },
    {
      "metadata": {
        "trusted": true,
        "id": "V0O94p0I0Bcy"
      },
      "cell_type": "code",
      "source": [
        "# We can see the joint distribution and the marginal distributions together using sns.jointplot. For this plot, we’ll set the style to a white background\n",
        "\n",
        "with sns.axes_style('white'):\n",
        "    sns.jointplot(\"x\",\"y\",data,kind='kde')"
      ],
      "execution_count": null,
      "outputs": []
    },
    {
      "metadata": {
        "trusted": true,
        "id": "Dc0t2Nhi0Bcy"
      },
      "cell_type": "code",
      "source": [
        "# There are other parameters that can be passed to jointplot—for example, we can use a hexagonally based histogram instead\n",
        "with sns.axes_style('white'):\n",
        "    sns.jointplot(\"x\",\"y\",data,kind='hex')"
      ],
      "execution_count": null,
      "outputs": []
    },
    {
      "metadata": {
        "trusted": true,
        "id": "5QSSVf2p0Bcy"
      },
      "cell_type": "code",
      "source": [
        "# Pair plots\n",
        "\n",
        "iris=sns.load_dataset(\"iris\")\n",
        "iris.head()"
      ],
      "execution_count": null,
      "outputs": []
    },
    {
      "metadata": {
        "trusted": true,
        "id": "HnUO7fM00Bcy"
      },
      "cell_type": "code",
      "source": [
        "# Visualizing the multidimensional relationships among the samples is as easy as call‐ing sns.pairplot\n",
        "\n",
        "sns.pairplot(iris,hue='species',size=2.5)"
      ],
      "execution_count": null,
      "outputs": []
    },
    {
      "metadata": {
        "trusted": true,
        "id": "0SEWmVbH0Bcz"
      },
      "cell_type": "code",
      "source": [
        "# Faceted histograms\n",
        "\n",
        "tips=sns.load_dataset('tips')\n",
        "tips.head()"
      ],
      "execution_count": null,
      "outputs": []
    },
    {
      "metadata": {
        "trusted": true,
        "id": "TZCsaclu0Bcz"
      },
      "cell_type": "code",
      "source": [
        "tips['tip_pct'] = 100 * tips['tip'] / tips['total_bill']\n",
        "grid = sns.FacetGrid(tips, row=\"sex\", col=\"time\", margin_titles=True)\n",
        "grid.map(plt.hist, \"tip_pct\", bins=np.linspace(0, 40, 15))"
      ],
      "execution_count": null,
      "outputs": []
    },
    {
      "metadata": {
        "trusted": true,
        "id": "uDOEhCS70Bcz"
      },
      "cell_type": "code",
      "source": [
        "# Factor plots\n",
        "\n",
        "with sns.axes_style(style='ticks'):\n",
        " g = sns.factorplot(\"day\", \"total_bill\", \"sex\", data=tips, kind=\"box\")\n",
        " g.set_axis_labels(\"Day\", \"Total Bill\");\n"
      ],
      "execution_count": null,
      "outputs": []
    },
    {
      "metadata": {
        "trusted": true,
        "id": "DHntJJuP0Bcz"
      },
      "cell_type": "code",
      "source": [
        "# Joint distributions\n",
        "\n",
        "# Similar to the pair plot we saw earlier, we can use sns.jointplot to show the jointdistribution between different datasets, along with the associated marginal distribu‐tions\n",
        "with sns.axes_style('white'):\n",
        " sns.jointplot(\"total_bill\", \"tip\", data=tips, kind='hex')"
      ],
      "execution_count": null,
      "outputs": []
    },
    {
      "metadata": {
        "trusted": true,
        "id": "owqr7ufe0Bcz"
      },
      "cell_type": "code",
      "source": [
        "# The joint plot can even do some automatic kernel density estimation and regression\n",
        "\n",
        "sns.jointplot(\"total_bill\",\"tip\",data=tips,kind='reg')"
      ],
      "execution_count": null,
      "outputs": []
    },
    {
      "metadata": {
        "trusted": true,
        "id": "9Sg0Vz0N0Bcz"
      },
      "cell_type": "code",
      "source": [
        "# Bar plots\n",
        "\n",
        "# Time series can be plotted with sns.factorplot\n",
        "\n",
        "planets=sns.load_dataset('planets')\n",
        "planets.head()"
      ],
      "execution_count": null,
      "outputs": []
    },
    {
      "metadata": {
        "trusted": true,
        "id": "0X61040X0Bc0"
      },
      "cell_type": "code",
      "source": [
        "with sns.axes_style('white'):\n",
        "    g=sns.factorplot(\"year\",data=planets,aspect=2,kind=\"count\",color=\"steelblue\")\n",
        "    g.set_xticklabels(step=5)"
      ],
      "execution_count": null,
      "outputs": []
    },
    {
      "metadata": {
        "trusted": true,
        "id": "X04NHFWf0Bc0"
      },
      "cell_type": "code",
      "source": [
        "with sns.axes_style('white'):\n",
        " g = sns.factorplot(\"year\", data=planets, aspect=4.0, kind='count',hue='method', order=range(2001, 2015))\n",
        " g.set_ylabels('Number of Planets Discovered')\n",
        "\n",
        "\n",
        ""
      ],
      "execution_count": null,
      "outputs": []
    },
    {
      "metadata": {
        "id": "LkAEMVdv0Bc0"
      },
      "cell_type": "markdown",
      "source": [
        "<a id=\"section-fourteen\"></a>\n",
        "# Section 14 - Visualization with Plotly"
      ]
    },
    {
      "metadata": {
        "id": "McgyHP9x0Bc0"
      },
      "cell_type": "markdown",
      "source": [
        "Plotly library: Plotly's Python graphing library makes interactive, publication-quality graphs online. Examples of how to make line plots, scatter plots, area charts, bar charts, error bars, box plots, histograms, heatmaps, subplots, multiple-axes, polar charts, and bubble charts."
      ]
    },
    {
      "metadata": {
        "trusted": true,
        "id": "tH-OEBGU0Bc1"
      },
      "cell_type": "code",
      "source": [
        "# import plotly\n",
        "import plotly as py\n",
        "from plotly.offline import init_notebook_mode, iplot,plot\n",
        "init_notebook_mode(connected=True)\n",
        "import plotly.graph_objs as go\n",
        "\n",
        "# word cloud library\n",
        "from wordcloud import WordCloud"
      ],
      "execution_count": null,
      "outputs": []
    },
    {
      "metadata": {
        "trusted": true,
        "id": "d2kXZFBI0Bc1"
      },
      "cell_type": "code",
      "source": [
        "# pip install plotly==3.10.0"
      ],
      "execution_count": null,
      "outputs": []
    },
    {
      "metadata": {
        "id": "qGU7Th100Bc1"
      },
      "cell_type": "markdown",
      "source": [
        "<a id=\"section-fifteen\"></a>\n",
        "# Section 15 - Read data from input files for Seaborn Plots"
      ]
    },
    {
      "metadata": {
        "trusted": true,
        "id": "T-lrD7Eg0Bc1"
      },
      "cell_type": "code",
      "source": [
        "# Read data from input files for Seaborn Plots\n",
        "\n",
        "import numpy as np\n",
        "import csv as csv\n",
        "import pandas as pd\n",
        "\n",
        "median_house_hold_in_come = pd.read_csv('/kaggle/input/fatalpoliceshootingsintheus/MedianHouseholdIncome2015.csv', encoding=\"windows-1252\")\n",
        "percentage_people_below_poverty_level = pd.read_csv('/kaggle/input/fatalpoliceshootingsintheus/PercentagePeopleBelowPovertyLevel.csv', encoding=\"windows-1252\")\n",
        "percent_over_25_completed_highSchool = pd.read_csv('/kaggle/input/fatalpoliceshootingsintheus/PercentOver25CompletedHighSchool.csv', encoding=\"windows-1252\")\n",
        "share_race_city = pd.read_csv('/kaggle/input/fatalpoliceshootingsintheus/ShareRaceByCity.csv/ShareRaceByCity.csv', encoding=\"windows-1252\")\n",
        "kill = pd.read_csv('/kaggle/input/fatalpoliceshootingsintheus/PoliceKillingsUS.csv', encoding=\"windows-1252\")\n"
      ],
      "execution_count": null,
      "outputs": []
    },
    {
      "metadata": {
        "trusted": true,
        "id": "ejBrjl2a0Bc1"
      },
      "cell_type": "code",
      "source": [
        "median_house_hold_in_come.head(20)"
      ],
      "execution_count": null,
      "outputs": []
    },
    {
      "metadata": {
        "trusted": true,
        "id": "4M-e53KR0Bc1"
      },
      "cell_type": "code",
      "source": [
        "percentage_people_below_poverty_level.head(20)"
      ],
      "execution_count": null,
      "outputs": []
    },
    {
      "metadata": {
        "trusted": true,
        "id": "GcCD9ulK0Bc2"
      },
      "cell_type": "code",
      "source": [
        "percent_over_25_completed_highSchool.head(20)"
      ],
      "execution_count": null,
      "outputs": []
    },
    {
      "metadata": {
        "trusted": true,
        "id": "d0zYh84o0Bc2"
      },
      "cell_type": "code",
      "source": [
        "share_race_city.head(20)"
      ],
      "execution_count": null,
      "outputs": []
    },
    {
      "metadata": {
        "trusted": true,
        "id": "D_ZcrArZ0Bc2"
      },
      "cell_type": "code",
      "source": [
        "kill.head(20)"
      ],
      "execution_count": null,
      "outputs": []
    },
    {
      "metadata": {
        "trusted": true,
        "id": "T0BnLd8-0Bc2"
      },
      "cell_type": "code",
      "source": [
        "percentage_people_below_poverty_level['Geographic Area'].unique()"
      ],
      "execution_count": null,
      "outputs": []
    },
    {
      "metadata": {
        "id": "pTA9HpXV0Bc2"
      },
      "cell_type": "markdown",
      "source": [
        "<a id=\"section-sixteen\"></a>\n",
        "# Section 16 - Bar Plot using Seaborn"
      ]
    },
    {
      "metadata": {
        "trusted": true,
        "id": "cGcoS9yJ0Bc2"
      },
      "cell_type": "code",
      "source": [
        "# # Poverty rate of each state\n",
        "percentage_people_below_poverty_level.replace(['-'],0.0,inplace=True)\n",
        "percentage_people_below_poverty_level.poverty_rate = percentage_people_below_poverty_level.poverty_rate.astype(float)\n",
        "area_list=list((percentage_people_below_poverty_level['Geographic Area'].unique()))\n",
        "area_poverty_ratio = []\n",
        "for i in area_list:\n",
        "    x = percentage_people_below_poverty_level[percentage_people_below_poverty_level['Geographic Area']==i]\n",
        "    area_poverty_rate = sum(x.poverty_rate)/len(x)\n",
        "    area_poverty_ratio.append(area_poverty_rate)\n",
        "data = pd.DataFrame({'area_list': area_list,'area_poverty_ratio':area_poverty_ratio})\n",
        "new_index = (data['area_poverty_ratio'].sort_values(ascending=False)).index.values\n",
        "sorted_data = data.reindex(new_index)\n",
        "\n",
        "# visualization\n",
        "\n",
        "plt.figure(figsize=(15,10))\n",
        "sns.barplot(x=sorted_data['area_list'], y=sorted_data['area_poverty_ratio'])\n",
        "plt.xticks(rotation=45)\n",
        "plt.xlabel('states')\n",
        "plt.ylabel('Poverty Rate')\n",
        "plt.title('Poverty Rate Given States')"
      ],
      "execution_count": null,
      "outputs": []
    },
    {
      "metadata": {
        "trusted": true,
        "id": "43Lh8EeJ0Bc2"
      },
      "cell_type": "code",
      "source": [
        "kill.head()"
      ],
      "execution_count": null,
      "outputs": []
    },
    {
      "metadata": {
        "trusted": true,
        "id": "anFEDPed0Bc3"
      },
      "cell_type": "code",
      "source": [
        "kill.name.value_counts()"
      ],
      "execution_count": null,
      "outputs": []
    },
    {
      "metadata": {
        "trusted": true,
        "id": "gbk5vlbf0Bc3"
      },
      "cell_type": "code",
      "source": [
        "percent_over_25_completed_highSchool.info()"
      ],
      "execution_count": null,
      "outputs": []
    },
    {
      "metadata": {
        "trusted": true,
        "id": "KtMKstKm0Bc3"
      },
      "cell_type": "code",
      "source": [
        "# High school graduation rate of the population that is older than 25 in states\n",
        "percent_over_25_completed_highSchool.percent_completed_hs.replace(['-'],0.0,inplace = True)\n",
        "percent_over_25_completed_highSchool.percent_completed_hs = percent_over_25_completed_highSchool.percent_completed_hs.astype(float)\n",
        "area_list = list(percent_over_25_completed_highSchool['Geographic Area'].unique())\n",
        "area_highschool = []\n",
        "for i in area_list:\n",
        "    x = percent_over_25_completed_highSchool[percent_over_25_completed_highSchool['Geographic Area']==i]\n",
        "    area_highschool_rate = sum(x.percent_completed_hs)/len(x)\n",
        "    area_highschool.append(area_highschool_rate)\n",
        "# sorting\n",
        "data = pd.DataFrame({'area_list': area_list,'area_highschool_ratio':area_highschool})\n",
        "new_index = (data['area_highschool_ratio'].sort_values(ascending=True)).index.values\n",
        "sorted_data2 = data.reindex(new_index)\n",
        "# visualization\n",
        "plt.figure(figsize=(15,10))\n",
        "sns.barplot(x=sorted_data2['area_list'], y=sorted_data2['area_highschool_ratio'])\n",
        "plt.xticks(rotation= 90)\n",
        "plt.xlabel('States')\n",
        "plt.ylabel('High School Graduate Rate')\n",
        "plt.title(\"Percentage of Given State's Population Above 25 that Has Graduated High School\")"
      ],
      "execution_count": null,
      "outputs": []
    },
    {
      "metadata": {
        "trusted": true,
        "id": "AHUtLQew0Bc3"
      },
      "cell_type": "code",
      "source": [
        "percentage_people_below_poverty_level.head()"
      ],
      "execution_count": null,
      "outputs": []
    },
    {
      "metadata": {
        "trusted": true,
        "id": "qCCwCipp0Bc3"
      },
      "cell_type": "code",
      "source": [
        "percentage_people_below_poverty_level.info()"
      ],
      "execution_count": null,
      "outputs": []
    },
    {
      "metadata": {
        "trusted": true,
        "id": "0vWHssED0Bc3"
      },
      "cell_type": "code",
      "source": [
        "percentage_people_below_poverty_level['Geographic Area'].unique()"
      ],
      "execution_count": null,
      "outputs": []
    },
    {
      "metadata": {
        "trusted": true,
        "id": "MimLzxGO0Bc3"
      },
      "cell_type": "code",
      "source": [
        "share_race_city.head()"
      ],
      "execution_count": null,
      "outputs": []
    },
    {
      "metadata": {
        "trusted": true,
        "id": "Kyu0UPuU0Bc4"
      },
      "cell_type": "code",
      "source": [
        "# Percentage of state's population according to races that are black,white,native american, asian and hispanic\n",
        "share_race_city.replace(['-'],0.0,inplace = True)\n",
        "share_race_city.replace(['(X)'],0.0,inplace = True)\n",
        "share_race_city.loc[:,['share_white','share_black','share_native_american','share_asian','share_hispanic']] = share_race_city.loc[:,['share_white','share_black','share_native_american','share_asian','share_hispanic']].astype(float)\n",
        "area_list = list(share_race_city['Geographic area'].unique())\n",
        "share_white = []\n",
        "share_black = []\n",
        "share_native_american = []\n",
        "share_asian = []\n",
        "share_hispanic = []\n",
        "for i in area_list:\n",
        "    x = share_race_city[share_race_city['Geographic area']==i]\n",
        "    share_white.append(sum(x.share_white)/len(x))\n",
        "    share_black.append(sum(x.share_black) / len(x))\n",
        "    share_native_american.append(sum(x.share_native_american) / len(x))\n",
        "    share_asian.append(sum(x.share_asian) / len(x))\n",
        "    share_hispanic.append(sum(x.share_hispanic) / len(x))\n",
        "\n",
        "# Visualization\n",
        "f,ax = plt.subplots(figsize = (9,15))\n",
        "sns.barplot(x=share_white,y=area_list,color='green',alpha = 0.5,label='White' )\n",
        "sns.barplot(x=share_black,y=area_list,color='blue',alpha = 0.7,label='African American')\n",
        "sns.barplot(x=share_native_american,y=area_list,color='cyan',alpha = 0.6,label='Native American')\n",
        "sns.barplot(x=share_asian,y=area_list,color='yellow',alpha = 0.6,label='Asian')\n",
        "sns.barplot(x=share_hispanic,y=area_list,color='red',alpha = 0.6,label='Hispanic')\n",
        "\n",
        "ax.legend(loc='lower right',frameon = True)\n",
        "ax.set(xlabel='Percentage of Races', ylabel='States',title = \"Percentage of State's Population According to Races \")"
      ],
      "execution_count": null,
      "outputs": []
    },
    {
      "metadata": {
        "id": "zFtZiQiF0Bc4"
      },
      "cell_type": "markdown",
      "source": [
        "<a id=\"section-seventeen\"></a>\n",
        "# Section 17 - Point Plot using Seaborn"
      ]
    },
    {
      "metadata": {
        "trusted": true,
        "id": "HTTIe66A0Bc4"
      },
      "cell_type": "code",
      "source": [
        "# high school graduation rate vs Poverty rate of each state\n",
        "sorted_data['area_poverty_ratio'] = sorted_data['area_poverty_ratio']/max( sorted_data['area_poverty_ratio'])\n",
        "sorted_data2['area_highschool_ratio'] = sorted_data2['area_highschool_ratio']/max( sorted_data2['area_highschool_ratio'])\n",
        "data = pd.concat([sorted_data,sorted_data2['area_highschool_ratio']],axis=1)\n",
        "data.sort_values('area_poverty_ratio',inplace=True)\n",
        "\n",
        "# visualize\n",
        "f,ax1 = plt.subplots(figsize =(20,10))\n",
        "sns.pointplot(x='area_list',y='area_poverty_ratio',data=data,color='lime',alpha=0.8)\n",
        "sns.pointplot(x='area_list',y='area_highschool_ratio',data=data,color='red',alpha=0.8)\n",
        "plt.text(40,0.6,'high school graduate ratio',color='red',fontsize = 17,style = 'italic')\n",
        "plt.text(40,0.55,'poverty ratio',color='lime',fontsize = 18,style = 'italic')\n",
        "plt.xlabel('States',fontsize = 15,color='blue')\n",
        "plt.ylabel('Values',fontsize = 15,color='blue')\n",
        "plt.title('High School Graduate  VS  Poverty Rate',fontsize = 20,color='blue')\n",
        "plt.grid()"
      ],
      "execution_count": null,
      "outputs": []
    },
    {
      "metadata": {
        "trusted": true,
        "id": "LKjmi_w-0Bc4"
      },
      "cell_type": "code",
      "source": [
        "data.head()"
      ],
      "execution_count": null,
      "outputs": []
    },
    {
      "metadata": {
        "id": "fsEJJjy80Bc4"
      },
      "cell_type": "markdown",
      "source": [
        "<a id=\"section-eighteen\"></a>\n",
        "# Section 18 - Joint Plot using Seaborn"
      ]
    },
    {
      "metadata": {
        "trusted": true,
        "id": "d_495MT60Bc4"
      },
      "cell_type": "code",
      "source": [
        "# Visualization of high school graduation rate vs Poverty rate of each state with different style of seaborn code\n",
        "# pearsonr= if it is 1, there is positive correlation and if it is, -1 there is negative correlation.\n",
        "# If it is zero, there is no correlation between variables\n",
        "# Show the joint distribution using kernel density estimation\n",
        "\n",
        "sns.jointplot(data.area_poverty_ratio, data.area_highschool_ratio)\n",
        "plt.savefig('graph.png')\n",
        "plt.show()"
      ],
      "execution_count": null,
      "outputs": []
    },
    {
      "metadata": {
        "trusted": true,
        "id": "5CEAwyqy0Bc4"
      },
      "cell_type": "code",
      "source": [
        "data.head()"
      ],
      "execution_count": null,
      "outputs": []
    },
    {
      "metadata": {
        "trusted": true,
        "id": "iUzhSyxy0Bc5"
      },
      "cell_type": "code",
      "source": [
        "# you can change parameters of joint plot\n",
        "# kind : { “scatter” | “reg” | “resid” | “kde” | “hex” }\n",
        "# Different usage of parameters but same plot with previous one\n",
        "g = sns.jointplot(\"area_poverty_ratio\", \"area_highschool_ratio\", data=data,size=5, ratio=3, color=\"r\")\n"
      ],
      "execution_count": null,
      "outputs": []
    },
    {
      "metadata": {
        "id": "v2EbaOMZ0Bc5"
      },
      "cell_type": "markdown",
      "source": [
        "<a id=\"section-ninteen\"></a>\n",
        "# Section 19 - Pie Plot using Seaborn"
      ]
    },
    {
      "metadata": {
        "trusted": true,
        "id": "iwgbYeJU0Bc5"
      },
      "cell_type": "code",
      "source": [
        "kill.race.head()"
      ],
      "execution_count": null,
      "outputs": []
    },
    {
      "metadata": {
        "trusted": true,
        "id": "6JvbtogS0Bc5"
      },
      "cell_type": "code",
      "source": [
        "kill.race.value_counts"
      ],
      "execution_count": null,
      "outputs": []
    },
    {
      "metadata": {
        "trusted": true,
        "id": "7v8dU6e70Bc5"
      },
      "cell_type": "code",
      "source": [
        "# Race rates according in kill data\n",
        "kill.race.dropna(inplace = True)\n",
        "labels = kill.race.value_counts().index\n",
        "colors = ['grey','blue','red','yellow','green','brown']\n",
        "explode = [0,0,0,0,0,0]\n",
        "sizes = kill.race.value_counts().values\n",
        "\n",
        "# visual\n",
        "plt.figure(figsize = (7,7))\n",
        "plt.pie(sizes, explode=explode, labels=labels, colors=colors, autopct='%1.1f%%')\n",
        "plt.title('Killed People According to Races',color = 'blue',fontsize = 15)"
      ],
      "execution_count": null,
      "outputs": []
    },
    {
      "metadata": {
        "id": "2wEtYUgD0Bc5"
      },
      "cell_type": "markdown",
      "source": [
        "<a id=\"section-twenty\"></a>\n",
        "# Section 20 - Lm Plot using Seaborn"
      ]
    },
    {
      "metadata": {
        "trusted": true,
        "id": "k0LgwL_m0Bc6"
      },
      "cell_type": "code",
      "source": [
        "data.head()"
      ],
      "execution_count": null,
      "outputs": []
    },
    {
      "metadata": {
        "trusted": true,
        "id": "JvToEv-K0Bc6"
      },
      "cell_type": "code",
      "source": [
        "# Visualization of high school graduation rate vs Poverty rate of each state with different style of seaborn code\n",
        "# lmplot\n",
        "# Show the results of a linear regression within each dataset\n",
        "sns.lmplot(x=\"area_poverty_ratio\", y=\"area_highschool_ratio\", data=data)\n",
        "plt.show()"
      ],
      "execution_count": null,
      "outputs": []
    },
    {
      "metadata": {
        "id": "FjSvs9ci0Bc6"
      },
      "cell_type": "markdown",
      "source": [
        "<a id=\"section-twentyone\"></a>\n",
        "# Section 21 - Kde Plot using Seaborn"
      ]
    },
    {
      "metadata": {
        "trusted": true,
        "id": "QMd4Ltbp0Bc6"
      },
      "cell_type": "code",
      "source": [
        "data.head()"
      ],
      "execution_count": null,
      "outputs": []
    },
    {
      "metadata": {
        "trusted": true,
        "id": "zi3TibGA0Bc6"
      },
      "cell_type": "code",
      "source": [
        "# Visualization of high school graduation rate vs Poverty rate of each state with different style of seaborn code\n",
        "# cubehelix plot\n",
        "sns.kdeplot(data.area_poverty_ratio, data.area_highschool_ratio, shade=True, cut=3)\n",
        "plt.show()"
      ],
      "execution_count": null,
      "outputs": []
    },
    {
      "metadata": {
        "id": "eKN4z1w_0Bc6"
      },
      "cell_type": "markdown",
      "source": [
        "<a id=\"section-twentytwo\"></a>\n",
        "# Section 22 - Violin Plot using Seaborn"
      ]
    },
    {
      "metadata": {
        "trusted": true,
        "id": "g4HzQXFF0Bc6"
      },
      "cell_type": "code",
      "source": [
        "data.head()"
      ],
      "execution_count": null,
      "outputs": []
    },
    {
      "metadata": {
        "trusted": true,
        "id": "oJ2Am-SK0Bc6"
      },
      "cell_type": "code",
      "source": [
        "# Show each distribution with both violins and points\n",
        "# Use cubehelix to get a custom sequential palette\n",
        "pal = sns.cubehelix_palette(2, rot=-.6, dark=.4)\n",
        "sns.violinplot(data=data, palette=pal, inner=\"points\")\n",
        "plt.show()"
      ],
      "execution_count": null,
      "outputs": []
    },
    {
      "metadata": {
        "id": "Oi7N4RJt0Bc7"
      },
      "cell_type": "markdown",
      "source": [
        "<a id=\"section-twentythree\"></a>\n",
        "# Section 23 - Heatmap"
      ]
    },
    {
      "metadata": {
        "trusted": true,
        "id": "CP6-4-H00Bc7"
      },
      "cell_type": "code",
      "source": [
        "data.corr()"
      ],
      "execution_count": null,
      "outputs": []
    },
    {
      "metadata": {
        "trusted": true,
        "id": "nOe4PY5d0Bc7"
      },
      "cell_type": "code",
      "source": [
        "#correlation map\n",
        "# Visualization of high school graduation rate vs Poverty rate of each state with different style of seaborn code\n",
        "f,ax = plt.subplots(figsize=(5, 10))\n",
        "sns.heatmap(data.corr(), annot=True, linewidths=0.8,linecolor=\"blue\", fmt= '.1f',ax=ax)\n",
        "plt.show()"
      ],
      "execution_count": null,
      "outputs": []
    },
    {
      "metadata": {
        "id": "udNUzITU0Bc7"
      },
      "cell_type": "markdown",
      "source": [
        "<a id=\"section-twentyfour\"></a>\n",
        "# Section 24 - Box plot"
      ]
    },
    {
      "metadata": {
        "trusted": true,
        "id": "csyxwT7n0Bc7"
      },
      "cell_type": "code",
      "source": [
        "kill.head()"
      ],
      "execution_count": null,
      "outputs": []
    },
    {
      "metadata": {
        "trusted": true,
        "id": "lEBWk1bC0Bc7"
      },
      "cell_type": "code",
      "source": [
        "kill.manner_of_death.unique()"
      ],
      "execution_count": null,
      "outputs": []
    },
    {
      "metadata": {
        "trusted": true,
        "id": "pHuYqXgS0Bc7"
      },
      "cell_type": "code",
      "source": [
        "sns.boxplot(x=\"gender\", y=\"age\", hue=\"manner_of_death\", data=kill, palette=\"PRGn\")\n",
        "plt.show()"
      ],
      "execution_count": null,
      "outputs": []
    },
    {
      "metadata": {
        "id": "zYoWttwc0Bc8"
      },
      "cell_type": "markdown",
      "source": [
        "<a id=\"section-twentyfive\"></a>\n",
        "# Section 25 - Swarm Plot"
      ]
    },
    {
      "metadata": {
        "trusted": true,
        "id": "6_RQhHoP0Bc8"
      },
      "cell_type": "code",
      "source": [
        "sns.swarmplot(x=\"gender\", y=\"age\",hue=\"manner_of_death\", data=kill)\n",
        "plt.show()"
      ],
      "execution_count": null,
      "outputs": []
    },
    {
      "metadata": {
        "id": "sxaHQEbD0Bc8"
      },
      "cell_type": "markdown",
      "source": [
        "<a id=\"section-twentysix\"></a>\n",
        "# Section 26 - Pair Plot"
      ]
    },
    {
      "metadata": {
        "trusted": true,
        "id": "YmNZrR9Y0Bc8"
      },
      "cell_type": "code",
      "source": [
        "data.head"
      ],
      "execution_count": null,
      "outputs": []
    },
    {
      "metadata": {
        "trusted": true,
        "id": "FLnWqkUc0Bc8"
      },
      "cell_type": "code",
      "source": [
        "sns.pairplot(data)\n",
        "plt.show()"
      ],
      "execution_count": null,
      "outputs": []
    },
    {
      "metadata": {
        "id": "6oiDjOYu0Bc9"
      },
      "cell_type": "markdown",
      "source": [
        "<a id=\"section-twentyseven\"></a>\n",
        "# Section 27 - Count Plot"
      ]
    },
    {
      "metadata": {
        "trusted": true,
        "id": "HnUS_cx_0Bc9"
      },
      "cell_type": "code",
      "source": [
        "kill.gender.value_counts()"
      ],
      "execution_count": null,
      "outputs": []
    },
    {
      "metadata": {
        "trusted": true,
        "id": "4Ouzh74I0Bc9"
      },
      "cell_type": "code",
      "source": [
        "kill.head()"
      ],
      "execution_count": null,
      "outputs": []
    },
    {
      "metadata": {
        "trusted": true,
        "id": "5vHJNiKu0Bc9"
      },
      "cell_type": "code",
      "source": [
        "# kill properties\n",
        "# Manner of death\n",
        "sns.countplot(kill.gender)\n"
      ],
      "execution_count": null,
      "outputs": []
    },
    {
      "metadata": {
        "trusted": true,
        "id": "Ukn_rTH_0Bc9"
      },
      "cell_type": "code",
      "source": [
        "# kill weapon\n",
        "armed = kill.armed.value_counts()\n",
        "#print(armed)\n",
        "plt.figure(figsize=(10,7))\n",
        "sns.barplot(x=armed[:7].index,y=armed[:7].values)\n",
        "plt.ylabel('Number of Weapon')\n",
        "plt.xlabel('Weapon Types')\n",
        "plt.title('Kill weapon',color = 'blue',fontsize=15)"
      ],
      "execution_count": null,
      "outputs": []
    },
    {
      "metadata": {
        "trusted": true,
        "id": "NpGniD_e0Bc9"
      },
      "cell_type": "code",
      "source": [
        "# Race of killed people\n",
        "kill.race.value_counts()\n",
        "sns.countplot(data=kill,x='race')\n",
        "plt.title('Race of killed people',color = 'blue',fontsize=15)"
      ],
      "execution_count": null,
      "outputs": []
    },
    {
      "metadata": {
        "trusted": true,
        "id": "5uKfXCJB0Bc-"
      },
      "cell_type": "code",
      "source": [
        "# Most dangerous cities\n",
        "city = kill.city.value_counts()\n",
        "plt.figure(figsize=(12,8))\n",
        "sns.barplot(x=city[:12].index,y=city[:12].values)\n",
        "plt.xticks(rotation=60)\n",
        "plt.title('Most dangerous cities',color = 'red',fontsize=20)"
      ],
      "execution_count": null,
      "outputs": []
    },
    {
      "metadata": {
        "trusted": true,
        "id": "xxYhd7GS0Bc-"
      },
      "cell_type": "code",
      "source": [
        "# most dangerous states\n",
        "state = kill.state.value_counts()\n",
        "plt.figure(figsize=(10,7))\n",
        "sns.barplot(x=state[:20].index,y=state[:20].values)\n",
        "plt.title('Most dangerous state',color = 'blue',fontsize=15)"
      ],
      "execution_count": null,
      "outputs": []
    },
    {
      "metadata": {
        "id": "ftmLmpef0Bc-"
      },
      "cell_type": "markdown",
      "source": [
        "<a id=\"section-twentyeight\"></a>\n",
        "# Section 28 - Read data from input files for Plotly Plots"
      ]
    },
    {
      "metadata": {
        "trusted": true,
        "id": "UbPDnngd0Bc-"
      },
      "cell_type": "code",
      "source": [
        "# plotly\n",
        "# import plotly.plotly as py\n",
        "from plotly.offline import init_notebook_mode, iplot, plot\n",
        "import plotly as py\n",
        "init_notebook_mode(connected=True)\n",
        "import plotly.graph_objs as go\n",
        "# word cloud library\n",
        "from wordcloud import WordCloud\n"
      ],
      "execution_count": null,
      "outputs": []
    },
    {
      "metadata": {
        "trusted": true,
        "id": "aJuyO7fK0Bc-"
      },
      "cell_type": "code",
      "source": [
        "# Read data from input files for Plotly Plots\n",
        "\n",
        "import numpy as np\n",
        "import csv as csv\n",
        "import pandas as pd\n",
        "\n",
        "#educational_attainment_supplementary_data = pd.read_csv(\"/kaggle/input/worlduniversityrankings-data/educational_attainment_supplementary_data.csv\")\n",
        "cwurData = pd.read_csv('/kaggle/input/worlduniversityrankings-data/cwurData.csv')\n",
        "#education_expenditure_supplementary_data = pd.read_csv(\"/kaggle/input/worlduniversityrankings-data/education_expenditure_supplementary_data.csv\")\n",
        "school_and_country_table = pd.read_csv('/kaggle/input/worlduniversityrankings-data/school_and_country_table.csv')\n",
        "shanghaiData = pd.read_csv('/kaggle/input/worlduniversityrankings-data/shanghaiData.csv')\n",
        "timesData = pd.read_csv('/kaggle/input/worlduniversityrankings-data/timesData.csv')\n"
      ],
      "execution_count": null,
      "outputs": []
    },
    {
      "metadata": {
        "trusted": true,
        "id": "6bjfuiUQ0Bc-"
      },
      "cell_type": "code",
      "source": [
        "timesData.head(20)"
      ],
      "execution_count": null,
      "outputs": []
    },
    {
      "metadata": {
        "trusted": true,
        "id": "iPOIYvcp0Bc-"
      },
      "cell_type": "code",
      "source": [
        "timesData.info"
      ],
      "execution_count": null,
      "outputs": []
    },
    {
      "metadata": {
        "id": "qExfqMls0Bc-"
      },
      "cell_type": "markdown",
      "source": [
        "<a id=\"section-twentynine\"></a>\n",
        "# Section 29 - Line Charts Plotly Plots"
      ]
    },
    {
      "metadata": {
        "trusted": true,
        "id": "5-9-sVyp0Bc_"
      },
      "cell_type": "code",
      "source": [
        "# prepare data frame\n",
        "df = timesData.iloc[:100,:]\n",
        "\n",
        "# import graph objects as \"go\"\n",
        "import plotly.graph_objs as go\n",
        "\n",
        "# Creating trace1\n",
        "trace1 = go.Scatter(\n",
        "                    x = df.world_rank,\n",
        "                    y = df.citations,\n",
        "                    mode = \"lines\",\n",
        "                    name = \"citations\",\n",
        "                    marker = dict(color = 'rgba(16, 112, 2, 0.8)'),\n",
        "                    text= df.university_name)\n",
        "\n",
        "# Creating trace2\n",
        "trace2 = go.Scatter(\n",
        "                    x = df.world_rank,\n",
        "                    y = df.teaching,\n",
        "                    mode = \"lines+markers\",\n",
        "                    name = \"teaching\",\n",
        "                    marker = dict(color = 'rgba(80, 26, 80, 0.8)'),\n",
        "                    text= df.university_name)\n",
        "\n",
        "data = [trace1, trace2]\n",
        "layout = dict(title = 'Citation and Teaching vs World Rank of Top 100 Universities',\n",
        "              xaxis= dict(title= 'World Rank',ticklen= 5,zeroline= False)\n",
        "             )\n",
        "fig = dict(data = data, layout = layout)\n",
        "iplot(fig)"
      ],
      "execution_count": null,
      "outputs": []
    },
    {
      "metadata": {
        "id": "b-kNT58L0Bc_"
      },
      "cell_type": "markdown",
      "source": [
        "<a id=\"section-thirty\"></a>\n",
        "# Section 30 - Scatter Charts Plotly Plots"
      ]
    },
    {
      "metadata": {
        "trusted": true,
        "id": "lN4-4LOA0Bc_"
      },
      "cell_type": "code",
      "source": [
        "# prepare data frames\n",
        "df2014 = timesData[timesData.year == 2014].iloc[:100,:]\n",
        "df2015 = timesData[timesData.year == 2015].iloc[:100,:]\n",
        "df2016 = timesData[timesData.year == 2016].iloc[:100,:]\n",
        "# import graph objects as \"go\"\n",
        "import plotly.graph_objs as go\n",
        "\n",
        "# creating trace1\n",
        "trace1 =go.Scatter(\n",
        "                    x = df2014.world_rank,\n",
        "                    y = df2014.citations,\n",
        "                    mode = \"markers\",\n",
        "                    name = \"2014\",\n",
        "                    marker = dict(color = 'rgba(255, 128, 255, 0.8)'),\n",
        "                    text= df2014.university_name)\n",
        "# creating trace2\n",
        "trace2 =go.Scatter(\n",
        "                    x = df2015.world_rank,\n",
        "                    y = df2015.citations,\n",
        "                    mode = \"markers\",\n",
        "                    name = \"2015\",\n",
        "                    marker = dict(color = 'rgba(255, 128, 2, 0.8)'),\n",
        "                    text= df2015.university_name)\n",
        "# creating trace3\n",
        "trace3 =go.Scatter(\n",
        "                    x = df2016.world_rank,\n",
        "                    y = df2016.citations,\n",
        "                    mode = \"markers\",\n",
        "                    name = \"2016\",\n",
        "                    marker = dict(color = 'rgba(0, 255, 200, 0.8)'),\n",
        "                    text= df2016.university_name)\n",
        "\n",
        "data = [trace1, trace2, trace3]\n",
        "layout = dict(title = 'Citation vs world rank of top 100 universities with 2014, 2015 and 2016 years',\n",
        "              xaxis= dict(title= 'World Rank',ticklen= 5,zeroline= False),\n",
        "              yaxis= dict(title= 'Citation',ticklen= 5,zeroline= False)\n",
        "             )\n",
        "fig = dict(data = data, layout = layout)\n",
        "iplot(fig)"
      ],
      "execution_count": null,
      "outputs": []
    },
    {
      "metadata": {
        "id": "VitqiPIj0Bc_"
      },
      "cell_type": "markdown",
      "source": [
        "<a id=\"section-thirtyone\"></a>\n",
        "# Section 31 - Bar Charts Plotly Plots"
      ]
    },
    {
      "metadata": {
        "trusted": true,
        "id": "OD3CsuAg0Bc_"
      },
      "cell_type": "code",
      "source": [
        "# prepare data frames\n",
        "df2014 = timesData[timesData.year == 2014].iloc[:3,:]\n",
        "df2014"
      ],
      "execution_count": null,
      "outputs": []
    },
    {
      "metadata": {
        "trusted": true,
        "id": "SsHIE-HX0Bc_"
      },
      "cell_type": "code",
      "source": [
        "# prepare data frames\n",
        "df2014 = timesData[timesData.year == 2014].iloc[:3,:]\n",
        "# import graph objects as \"go\"\n",
        "import plotly.graph_objs as go\n",
        "# create trace1\n",
        "trace1 = go.Bar(\n",
        "                x = df2014.university_name,\n",
        "                y = df2014.citations,\n",
        "                name = \"citations\",\n",
        "                marker = dict(color = 'rgba(255, 174, 255, 0.5)',\n",
        "                             line=dict(color='rgb(0,0,0)',width=1.5)),\n",
        "                text = df2014.country)\n",
        "# create trace2\n",
        "trace2 = go.Bar(\n",
        "                x = df2014.university_name,\n",
        "                y = df2014.teaching,\n",
        "                name = \"teaching\",\n",
        "                marker = dict(color = 'rgba(255, 255, 128, 0.5)',\n",
        "                              line=dict(color='rgb(0,0,0)',width=1.5)),\n",
        "                text = df2014.country)\n",
        "data = [trace1, trace2]\n",
        "layout = go.Layout(barmode = \"group\")\n",
        "fig = go.Figure(data = data, layout = layout)\n",
        "iplot(fig)"
      ],
      "execution_count": null,
      "outputs": []
    },
    {
      "metadata": {
        "id": "NUK2wcFt0Bc_"
      },
      "cell_type": "markdown",
      "source": [
        "<a id=\"section-thirtytwo\"></a>\n",
        "# Section 32 - Pie Charts Plotly Plots"
      ]
    },
    {
      "metadata": {
        "trusted": true,
        "id": "u3EPdC850BdA"
      },
      "cell_type": "code",
      "source": [
        "# data preparation\n",
        "df2016 = timesData[timesData.year == 2016].iloc[:7,:]\n",
        "pie1 = df2016.num_students\n",
        "pie1_list = [float(each.replace(',', '.')) for each in df2016.num_students]  # str(2,4) => str(2.4) = > float(2.4) = 2.4\n",
        "labels = df2016.university_name\n",
        "# figure\n",
        "fig = {\n",
        "  \"data\": [\n",
        "    {\n",
        "      \"values\": pie1_list,\n",
        "      \"labels\": labels,\n",
        "      \"domain\": {\"x\": [0, .5]},\n",
        "      \"name\": \"Number Of Students Rates\",\n",
        "      \"hoverinfo\":\"label+percent+name\",\n",
        "      \"hole\": .3,\n",
        "      \"type\": \"pie\"\n",
        "    },],\n",
        "  \"layout\": {\n",
        "        \"title\":\"Universities Number of Students rates\",\n",
        "        \"annotations\": [\n",
        "            { \"font\": { \"size\": 20},\n",
        "              \"showarrow\": False,\n",
        "              \"text\": \"Number of Students\",\n",
        "                \"x\": 0.20,\n",
        "                \"y\": 1\n",
        "            },\n",
        "        ]\n",
        "    }\n",
        "}\n",
        "iplot(fig)"
      ],
      "execution_count": null,
      "outputs": []
    },
    {
      "metadata": {
        "id": "rRdG5qJm0BdA"
      },
      "cell_type": "markdown",
      "source": [
        "<a id=\"section-thirtythree\"></a>\n",
        "# Section 33 - Bubble Charts Plotly Plots"
      ]
    },
    {
      "metadata": {
        "trusted": true,
        "id": "Yd2fh7_E0BdA"
      },
      "cell_type": "code",
      "source": [
        "df2016.info()"
      ],
      "execution_count": null,
      "outputs": []
    },
    {
      "metadata": {
        "trusted": true,
        "id": "osX8QxSI0BdA"
      },
      "cell_type": "code",
      "source": [
        "# data preparation\n",
        "df2016 = timesData[timesData.year == 2016].iloc[:20,:]\n",
        "num_students_size  = [float(each.replace(',', '.')) for each in df2016.num_students]\n",
        "international_color = [float(each) for each in df2016.international]\n",
        "data = [\n",
        "    {\n",
        "        'y': df2016.teaching,\n",
        "        'x': df2016.world_rank,\n",
        "        'mode': 'markers',\n",
        "        'marker': {\n",
        "            'color': international_color,\n",
        "            'size': num_students_size,\n",
        "            'showscale': True\n",
        "        },\n",
        "        \"text\" :  df2016.university_name\n",
        "    }\n",
        "]\n",
        "iplot(data)"
      ],
      "execution_count": null,
      "outputs": []
    },
    {
      "metadata": {
        "id": "0rSt8OkZ0BdA"
      },
      "cell_type": "markdown",
      "source": [
        "<a id=\"section-thirtyfour\"></a>\n",
        "# Section 34 - Histogram Plotly Plots"
      ]
    },
    {
      "metadata": {
        "trusted": true,
        "id": "a6HY9Oiy0BdA"
      },
      "cell_type": "code",
      "source": [
        "# prepare data\n",
        "x2011 = timesData.student_staff_ratio[timesData.year == 2011]\n",
        "x2012 = timesData.student_staff_ratio[timesData.year == 2012]\n",
        "\n",
        "trace1 = go.Histogram(\n",
        "    x=x2011,\n",
        "    opacity=0.75,\n",
        "    name = \"2011\",\n",
        "    marker=dict(color='rgba(171, 50, 96, 0.6)'))\n",
        "trace2 = go.Histogram(\n",
        "    x=x2012,\n",
        "    opacity=0.75,\n",
        "    name = \"2012\",\n",
        "    marker=dict(color='rgba(12, 50, 196, 0.6)'))\n",
        "\n",
        "data = [trace1, trace2]\n",
        "layout = go.Layout(barmode='overlay',\n",
        "                   title=' students-staff ratio in 2011 and 2012',\n",
        "                   xaxis=dict(title='students-staff ratio'),\n",
        "                   yaxis=dict( title='Count'),\n",
        ")\n",
        "fig = go.Figure(data=data, layout=layout)\n",
        "iplot(fig)"
      ],
      "execution_count": null,
      "outputs": []
    },
    {
      "metadata": {
        "id": "9ACUYJ5x0BdA"
      },
      "cell_type": "markdown",
      "source": [
        "<a id=\"section-thirtyfive\"></a>\n",
        "# Section 35 - Word Cloud Plotly Plots"
      ]
    },
    {
      "metadata": {
        "trusted": true,
        "id": "gkrt7Gf20BdB"
      },
      "cell_type": "code",
      "source": [
        "# data prepararion\n",
        "x2011 = timesData.country[timesData.year == 2011]\n",
        "plt.subplots(figsize=(8,8))\n",
        "wordcloud = WordCloud(\n",
        "                          background_color='white',\n",
        "                          width=512,\n",
        "                          height=384\n",
        "                         ).generate(\" \".join(x2011))\n",
        "plt.imshow(wordcloud)\n",
        "plt.axis('off')\n",
        "plt.savefig('graph.png')\n",
        "\n",
        "plt.show()"
      ],
      "execution_count": null,
      "outputs": []
    },
    {
      "metadata": {
        "id": "c2FKQN540BdB"
      },
      "cell_type": "markdown",
      "source": [
        "<a id=\"section-thirtysix\"></a>\n",
        "# Section 36 - Box Plots Plotly Plots"
      ]
    },
    {
      "metadata": {
        "trusted": true,
        "id": "cpW0bI8A0BdB"
      },
      "cell_type": "code",
      "source": [
        "# data preparation\n",
        "x2015 = timesData[timesData.year == 2015]\n",
        "\n",
        "trace0 = go.Box(\n",
        "    y=x2015.total_score,\n",
        "    name = 'total score of universities in 2015',\n",
        "    marker = dict(\n",
        "        color = 'rgb(12, 12, 140)',\n",
        "    )\n",
        ")\n",
        "trace1 = go.Box(\n",
        "    y=x2015.research,\n",
        "    name = 'research of universities in 2015',\n",
        "    marker = dict(\n",
        "        color = 'rgb(12, 128, 128)',\n",
        "    )\n",
        ")\n",
        "data = [trace0, trace1]\n",
        "iplot(data)"
      ],
      "execution_count": null,
      "outputs": []
    },
    {
      "metadata": {
        "id": "a-JviJgG0BdB"
      },
      "cell_type": "markdown",
      "source": [
        "<a id=\"section-thirtyseven\"></a>\n",
        "# Section 37 - Scatter Matrix Plotly Plots"
      ]
    },
    {
      "metadata": {
        "trusted": true,
        "id": "rpxONxeN0BdB"
      },
      "cell_type": "code",
      "source": [
        "# import figure factory\n",
        "import plotly.figure_factory as ff\n",
        "# prepare data\n",
        "dataframe = timesData[timesData.year == 2015]\n",
        "data2015 = dataframe.loc[:,[\"research\",\"international\", \"total_score\"]]\n",
        "data2015[\"index\"] = np.arange(1,len(data2015)+1)\n",
        "# scatter matrix\n",
        "fig = ff.create_scatterplotmatrix(data2015, diag='box', index='index',colormap='Portland',\n",
        "                                  colormap_type='cat',\n",
        "                                  height=750, width=750)\n",
        "iplot(fig)"
      ],
      "execution_count": null,
      "outputs": []
    }
  ],
  "metadata": {
    "kernelspec": {
      "language": "python",
      "display_name": "Python 3",
      "name": "python3"
    },
    "language_info": {
      "pygments_lexer": "ipython3",
      "nbconvert_exporter": "python",
      "version": "3.6.4",
      "file_extension": ".py",
      "codemirror_mode": {
        "name": "ipython",
        "version": 3
      },
      "name": "python",
      "mimetype": "text/x-python"
    },
    "colab": {
      "name": "Data Visualization(2D/3D): 35+ Exercises",
      "provenance": [],
      "include_colab_link": true
    }
  },
  "nbformat": 4,
  "nbformat_minor": 0
}